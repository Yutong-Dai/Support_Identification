{
 "cells": [
  {
   "cell_type": "code",
   "execution_count": 1,
   "metadata": {},
   "outputs": [
    {
     "name": "stdout",
     "output_type": "stream",
     "text": [
      "Set parameter Username\n",
      "Academic license - for non-commercial use only - expires 2024-08-28\n",
      "\n",
      "The optimal value is -0.43231279239753617\n",
      "The optimal x is\n",
      "[ 0.05063963 -0.04315767 -0.09285631 -0.06775638  0.06076909 -0.05372493\n",
      " -0.14235034 -0.02289263  0.14161058  0.03591744]\n"
     ]
    }
   ],
   "source": [
    "import cvxpy as cp\n",
    "import numpy as np\n",
    "# Define and solve the CVXPY problem.\n",
    "n = 10\n",
    "A = np.random.randn(2, n)\n",
    "u = np.random.randn(2, 1)\n",
    "y = cp.Variable(n)\n",
    "Ay = A @ y\n",
    "obj = cp.sum_squares(Ay) + u.T@Ay\n",
    "constraints =  [cp.norm2(y[:5]) <= 1, cp.norm2(y[5:]) <= 1]\n",
    "prob = cp.Problem(cp.Minimize(obj), constraints)\n",
    "prob.solve(solver=cp.GUROBI, verbose=False)\n",
    "print(\"\\nThe optimal value is\", prob.value)\n",
    "print(\"The optimal x is\")\n",
    "print(y.value)"
   ]
  },
  {
   "cell_type": "code",
   "execution_count": 4,
   "metadata": {},
   "outputs": [
    {
     "name": "stdout",
     "output_type": "stream",
     "text": [
      "===============================================================================\n",
      "                                     CVXPY                                     \n",
      "                                    v1.1.13                                    \n",
      "===============================================================================\n",
      "(CVXPY) Sep 01 10:11:36 AM: Your problem has 10 variables, 2 constraints, and 0 parameters.\n",
      "(CVXPY) Sep 01 10:11:36 AM: It is compliant with the following grammars: DCP, DQCP\n",
      "(CVXPY) Sep 01 10:11:36 AM: (If you need to solve this problem multiple times, but with different data, consider using parameters.)\n",
      "(CVXPY) Sep 01 10:11:36 AM: CVXPY will first compile your problem; then, it will invoke a numerical solver to obtain a solution.\n",
      "-------------------------------------------------------------------------------\n",
      "                                  Compilation                                  \n",
      "-------------------------------------------------------------------------------\n",
      "(CVXPY) Sep 01 10:11:36 AM: Using cached ASA map, for faster compilation (bypassing reduction chain).\n",
      "(CVXPY) Sep 01 10:11:36 AM: Finished problem compilation (took 2.453e-03 seconds).\n",
      "-------------------------------------------------------------------------------\n",
      "                                Numerical solver                               \n",
      "-------------------------------------------------------------------------------\n",
      "(CVXPY) Sep 01 10:11:36 AM: Invoking solver GUROBI  to obtain a solution.\n",
      "Set parameter QCPDual to value 1\n",
      "Gurobi Optimizer version 10.0.1 build v10.0.1rc0 (linux64)\n",
      "\n",
      "CPU model: Intel(R) Xeon(R) Silver 4314 CPU @ 2.40GHz, instruction set [SSE2|AVX|AVX2|AVX512]\n",
      "Thread count: 32 physical cores, 64 logical processors, using up to 32 threads\n",
      "\n",
      "Optimize a model with 18 rows, 29 columns and 52 nonzeros\n",
      "Model fingerprint: 0xa75e6df1\n",
      "Model has 3 quadratic constraints\n",
      "Coefficient statistics:\n",
      "  Matrix range     [5e-02, 4e+00]\n",
      "  QMatrix range    [1e+00, 1e+00]\n",
      "  Objective range  [4e-01, 2e+00]\n",
      "  Bounds range     [0e+00, 0e+00]\n",
      "  RHS range        [1e+00, 1e+00]\n",
      "Presolve removed 15 rows and 15 columns\n",
      "Presolve time: 0.00s\n",
      "Presolved: 5 rows, 16 columns, 26 nonzeros\n",
      "Presolved model has 3 second-order cone constraints\n",
      "Ordering time: 0.00s\n",
      "\n",
      "Barrier statistics:\n",
      " AA' NZ     : 7.000e+00\n",
      " Factor NZ  : 1.500e+01\n",
      " Factor Ops : 5.500e+01 (less than 1 second per iteration)\n",
      " Threads    : 1\n",
      "\n",
      "                  Objective                Residual\n",
      "Iter       Primal          Dual         Primal    Dual     Compl     Time\n",
      "   0   2.61296068e-02  0.00000000e+00  2.61e-02 1.41e+00  2.57e-01     0s\n",
      "   1  -1.04062410e-01 -1.44295367e-01  2.87e-08 3.61e-01  5.86e-02     0s\n",
      "   2  -2.93925393e-01 -4.55010415e-01  3.33e-14 2.87e-02  1.35e-02     0s\n",
      "   3  -4.30349953e-01 -4.54851339e-01  2.58e-14 5.79e-03  2.38e-03     0s\n",
      "   4  -4.32079946e-01 -4.32403212e-01  9.37e-16 8.19e-05  3.23e-05     0s\n",
      "   5  -4.32310841e-01 -4.32315204e-01  2.38e-12 3.41e-06  8.36e-07     0s\n",
      "   6  -4.32312789e-01 -4.32312816e-01  1.76e-10 1.02e-09  1.68e-09     0s\n",
      "\n",
      "Barrier solved model in 6 iterations and 0.02 seconds (0.00 work units)\n",
      "Optimal objective -4.32312789e-01\n",
      "\n",
      "Solving KKT system to obtain QCP duals...\n",
      "\n",
      "-------------------------------------------------------------------------------\n",
      "                                    Summary                                    \n",
      "-------------------------------------------------------------------------------\n",
      "(CVXPY) Sep 01 10:11:36 AM: Problem status: optimal\n",
      "(CVXPY) Sep 01 10:11:36 AM: Optimal value: -4.323e-01\n",
      "(CVXPY) Sep 01 10:11:36 AM: Compilation took 2.453e-03 seconds\n",
      "(CVXPY) Sep 01 10:11:36 AM: Solver (including time spent in interface) took 2.972e-02 seconds\n"
     ]
    },
    {
     "data": {
      "text/plain": [
       "-0.43231279239753617"
      ]
     },
     "execution_count": 4,
     "metadata": {},
     "output_type": "execute_result"
    }
   ],
   "source": [
    "prob.solve(solver=cp.GUROBI, verbose=True)"
   ]
  },
  {
   "cell_type": "markdown",
   "metadata": {},
   "source": [
    "# test dual"
   ]
  },
  {
   "cell_type": "code",
   "execution_count": 2,
   "metadata": {},
   "outputs": [],
   "source": [
    "import argparse\n",
    "import sys\n",
    "sys.path.append(\"../..\")\n",
    "from src.funcs.regularizer import  NatOG\n",
    "from src.utils import gen_chain_group\n",
    "import numpy as np\n",
    "\n",
    "def get_config():\n",
    "    parser = argparse.ArgumentParser()\n",
    "    # IPG solver configurations\n",
    "    parser.add_argument(\"--ipg_save_log\", default=True, type=lambda x: (str(x).lower()\n",
    "                        in ['true', '1', 'yes']), help=\"whether save the log of the ipg solver.\")\n",
    "    parser.add_argument(\"--exact_pg_computation\", default=False, type=lambda x: (str(x).lower()\n",
    "                        in ['true', '1', 'yes']), help=\"Mimic to the exact computation of the proximal operator.\") \n",
    "    parser.add_argument(\"--exact_pg_computation_tol\", type=float, default=1e-15, help=\"Deisred error tolerance.\")                                                                      \n",
    "\n",
    "    parser.add_argument(\"--ipg_do_linesearch\", default=True, type=lambda x: (str(x).lower()\n",
    "                        in ['true', '1', 'yes']), help=\"Whether do linesearch in the projected gradient ascent.\")\n",
    "    parser.add_argument(\"--ipg_linesearch_eta\", type=float, default=1e-4, help=\"eta of the linesearch.\")\n",
    "    parser.add_argument(\"--ipg_linesearch_xi\", type=float, default=0.8, help=\"xi of the linesearch.\")\n",
    "    parser.add_argument(\"--ipg_linesearch_beta\", type=float, default=1.2, help=\"beta of the linesearch.\")\n",
    "    parser.add_argument(\"--ipg_linesearch_limits\", type=int, default=100, help=\"max attempts of the linesearch.\")\n",
    "    \n",
    "    parser.add_argument(\"--ipg_strategy\", type=str, default=\"diminishing\", choices=[\"diminishing\"], \n",
    "        help=\"Strategy to inexactly evaluate the proximal operator.\\ndiminishing: c * np.log(k+1) / k**delta\")\n",
    "    parser.add_argument(\"--ipg_diminishing_c\", type=float, default=1, help=\"c of c * np.log(k+1) / k**delta\")\n",
    "    parser.add_argument(\"--ipg_diminishing_delta\", type=float, default=2, help=\"delta of c * np.log(k+1) / k**delta\")\n",
    "    config = parser.parse_args(\"\")\n",
    "    return config"
   ]
  },
  {
   "cell_type": "code",
   "execution_count": 4,
   "metadata": {},
   "outputs": [
    {
     "name": "stdout",
     "output_type": "stream",
     "text": [
      "using: [[0, 1, 2], [1, 2, 3], [0, 2, 4]]\n",
      "[[1. 0. 0. 0. 0. 0. 1. 0. 0.]\n",
      " [0. 1. 0. 1. 0. 0. 0. 0. 0.]\n",
      " [0. 0. 1. 0. 1. 0. 0. 1. 0.]\n",
      " [0. 0. 0. 0. 0. 1. 0. 0. 0.]\n",
      " [0. 0. 0. 0. 0. 0. 0. 0. 1.]]\n",
      "5\n",
      "252.58908176102412\n",
      "target duality gap:0.000 | subsolver status:desired | aoptim:2.805\n",
      "init x             : [[1.76405235 0.40015721 0.97873798 2.2408932  1.86755799]]\n",
      "approxmate solution: [[0.97437783 0.         0.         0.         0.81525549]]\n",
      "dual               : [[-7.54898474]]\n"
     ]
    }
   ],
   "source": [
    "groups = [[0,1,2], [1,2,3], [0,2,4]]\n",
    "print('using:', groups)\n",
    "config = get_config()\n",
    "r = NatOG(groups, penalty=1.0, config=config, weights=np.array([1,100,1]))\n",
    "print(r.A.todense())\n",
    "print(r.xdim)\n",
    "np.random.seed(0)\n",
    "x0 = np.random.randn(r.xdim, 1)\n",
    "print(r.func(x0))\n",
    "dk=np.random.randn(r.xdim, 1)\n",
    "alphak = 1.0\n",
    "xtrial, ytrial = r.compute_inexact_proximal_gradient_update(xk=x0, alphak=alphak, dk=dk, \n",
    "                                            y_init=None, stepsize_init=None, \n",
    "                                            ipg_kwargs={'iteration':100000})\n",
    "print(f'target duality gap:{r.targap:.3f} | subsolver status:{r.flag} | aoptim:{r.aoptim:.3f}')\n",
    "print('init x             :', x0.T)\n",
    "print('approxmate solution:', xtrial.T)\n",
    "Aytrial = r.A @ ytrial\n",
    "uk = x0 - alphak * dk\n",
    "dual = alphak/2 * Aytrial.T@Aytrial + uk.T@Aytrial\n",
    "print('dual               :', dual)"
   ]
  },
  {
   "cell_type": "code",
   "execution_count": 5,
   "metadata": {},
   "outputs": [
    {
     "name": "stdout",
     "output_type": "stream",
     "text": [
      "\n",
      "The optimal value is -7.548983723326806\n",
      "[[-9.99999886e-01 -4.76447820e-05  6.03685322e-05  5.50224975e-01\n",
      "  -1.13065780e+00 -2.34527903e+00 -7.67013696e-01  1.51030187e-05\n",
      "  -6.41630650e-01]]\n"
     ]
    }
   ],
   "source": [
    "y = cp.Variable(ytrial.shape)\n",
    "\n",
    "A = r.A\n",
    "Ay = A @ y\n",
    "obj = alphak/2 * cp.sum_squares(Ay) + uk.T@Ay\n",
    "constraints =  [cp.norm2(y[start:end]) <= radius for start, end, radius in zip(r.starts, r.ends, r.weights)]\n",
    "prob = cp.Problem(cp.Minimize(obj), constraints)\n",
    "prob.solve(solver=cp.GUROBI, verbose=False, max_iters=1000)\n",
    "print(\"\\nThe optimal value is\", prob.value)\n",
    "print(y.value.T)"
   ]
  },
  {
   "cell_type": "code",
   "execution_count": 6,
   "metadata": {},
   "outputs": [
    {
     "data": {
      "text/plain": [
       "(1.013372272318236e-06, 0.001328561619588002)"
      ]
     },
     "execution_count": 6,
     "metadata": {},
     "output_type": "execute_result"
    }
   ],
   "source": [
    "prob.value - dual.item(), np.linalg.norm(ytrial - y.value)"
   ]
  },
  {
   "cell_type": "code",
   "execution_count": 7,
   "metadata": {},
   "outputs": [],
   "source": [
    "def update_nu_rho(xk, alphak, dk, yk, r, nuk, rhok):\n",
    "    y = cp.Variable(yk.shape)\n",
    "    Ay = r.A @ y\n",
    "    obj = alphak/2 * cp.sum_squares(Ay) + uk.T@Ay\n",
    "    constraints =  [cp.norm2(y[start:end]) <= radius for start, end, radius in zip(r.starts, r.ends, r.weights)]\n",
    "    prob = cp.Problem(cp.Minimize(obj), constraints)\n",
    "    prob.solve(solver=cp.GUROBI, verbose=False, max_iters=1000)\n",
    "    temp = 2 * r.targap / alphak\n",
    "    dist_to_sol_set_up = np.linalg.norm(yk - y.value)\n",
    "    while dist_to_sol_set_up > nuk * (temp ** (rhok/2)):\n",
    "        nuk *= 2\n",
    "        if temp < 1.0:\n",
    "            rhok /= 2\n",
    "    return nuk, rhok\n"
   ]
  },
  {
   "cell_type": "code",
   "execution_count": 9,
   "metadata": {},
   "outputs": [
    {
     "data": {
      "text/plain": [
       "(2, 0.5)"
      ]
     },
     "execution_count": 9,
     "metadata": {},
     "output_type": "execute_result"
    }
   ],
   "source": [
    "update_nu_rho(xk=x0, alphak=alphak, dk=dk, yk=ytrial, r=r, nuk=1, rhok=1)"
   ]
  },
  {
   "cell_type": "markdown",
   "metadata": {},
   "source": [
    "# Process data"
   ]
  },
  {
   "cell_type": "code",
   "execution_count": 1,
   "metadata": {},
   "outputs": [],
   "source": [
    "import glob\n",
    "import numpy as np\n",
    "path = '/home/yutong/Support_Identification/experiments/logit_chain/details/InexactProxGD_logit_NatOG'\n",
    "list_of_stat = glob.glob(path + '/*.npy')"
   ]
  },
  {
   "cell_type": "code",
   "execution_count": 2,
   "metadata": {},
   "outputs": [],
   "source": [
    "nuk_lst = []\n",
    "rhok_lst = []\n",
    "for file in list_of_stat:\n",
    "    stat = np.load(file, allow_pickle=True).item()\n",
    "    nuk_lst.append(stat['nuk'])\n",
    "    rhok_lst.append(stat['rhok'])"
   ]
  },
  {
   "cell_type": "code",
   "execution_count": 4,
   "metadata": {},
   "outputs": [
    {
     "data": {
      "image/png": "[encoded data removed]",
      "text/plain": [
       "<Figure size 640x480 with 1 Axes>"
      ]
     },
     "metadata": {},
     "output_type": "display_data"
    }
   ],
   "source": [
    "# plot box plot of nuk and rhok\n",
    "import matplotlib.pyplot as plt\n",
    "plt.boxplot([nuk_lst, rhok_lst], labels=[r'$\\nu_{\\max}$', r'$\\rho_{\\min}$'])\n",
    "plt.savefig('nuk_rhok_boxplot.pdf', dpi=100)\n",
    "plt.show()"
   ]
  },
  {
   "cell_type": "code",
   "execution_count": 24,
   "metadata": {},
   "outputs": [
    {
     "data": {
      "image/png": "[encoded data removed]",
      "text/plain": [
       "<Figure size 640x480 with 2 Axes>"
      ]
     },
     "metadata": {},
     "output_type": "display_data"
    }
   ],
   "source": [
    "# organuze nuk and rhok into a dataframe\n",
    "import pandas as pd\n",
    "df = pd.DataFrame({r'$\\nu_{\\max}$':nuk_lst, r'$\\rho_{\\min}$':rhok_lst})\n",
    "# plot a histogram of nuk and rhok and add custom xticks\n",
    "axarr = df.hist(bins=10, grid=False)\n",
    "for ax in axarr.flatten():\n",
    "    ax.set_ylabel(\"Counts\")\n",
    "plt.savefig('nuk_rhok_frequency.pdf', dpi=100)"
   ]
  },
  {
   "cell_type": "code",
   "execution_count": null,
   "metadata": {},
   "outputs": [],
   "source": []
  }
 ],
 "metadata": {
  "kernelspec": {
   "display_name": "base",
   "language": "python",
   "name": "python3"
  },
  "language_info": {
   "codemirror_mode": {
    "name": "ipython",
    "version": 3
   },
   "file_extension": ".py",
   "mimetype": "text/x-python",
   "name": "python",
   "nbconvert_exporter": "python",
   "pygments_lexer": "ipython3",
   "version": "3.9.7"
  },
  "orig_nbformat": 4
 },
 "nbformat": 4,
 "nbformat_minor": 2
}
