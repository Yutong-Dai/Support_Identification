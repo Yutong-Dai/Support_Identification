{
 "cells": [
  {
   "cell_type": "code",
   "execution_count": 40,
   "metadata": {},
   "outputs": [
    {
     "name": "stdout",
     "output_type": "stream",
     "text": [
      "\n",
      "The optimal value is -0.2144246575688528\n",
      "The optimal x is\n",
      "[-0.01952547  0.00183893  0.03520406  0.04025137  0.00313448  0.06676809\n",
      " -0.08108803  0.06316108  0.02849691 -0.0072229 ]\n"
     ]
    }
   ],
   "source": [
    "import cvxpy as cp\n",
    "import numpy as np\n",
    "# Define and solve the CVXPY problem.\n",
    "n = 10\n",
    "A = np.random.randn(2, n)\n",
    "u = np.random.randn(2, 1)\n",
    "y = cp.Variable(n)\n",
    "Ay = A @ y\n",
    "obj = cp.sum_squares(Ay) + u.T@Ay\n",
    "constraints =  [cp.norm2(y[:5]) <= 1, cp.norm2(y[5:]) <= 1]\n",
    "prob = cp.Problem(cp.Minimize(obj), constraints)\n",
    "prob.solve(solver=cp.GUROBI, verbose=False)\n",
    "print(\"\\nThe optimal value is\", prob.value)\n",
    "print(\"The optimal x is\")\n",
    "print(y.value)"
   ]
  },
  {
   "cell_type": "markdown",
   "metadata": {},
   "source": [
    "# test dual"
   ]
  },
  {
   "cell_type": "code",
   "execution_count": 47,
   "metadata": {},
   "outputs": [],
   "source": [
    "import argparse\n",
    "import sys\n",
    "sys.path.append(\"../..\")\n",
    "from src.funcs.regularizer import  NatOG\n",
    "from src.utils import gen_chain_group\n",
    "import numpy as np\n",
    "\n",
    "def get_config():\n",
    "    parser = argparse.ArgumentParser()\n",
    "    # IPG solver configurations\n",
    "    parser.add_argument(\"--ipg_save_log\", default=True, type=lambda x: (str(x).lower()\n",
    "                        in ['true', '1', 'yes']), help=\"whether save the log of the ipg solver.\")\n",
    "    parser.add_argument(\"--exact_pg_computation\", default=False, type=lambda x: (str(x).lower()\n",
    "                        in ['true', '1', 'yes']), help=\"Mimic to the exact computation of the proximal operator.\") \n",
    "    parser.add_argument(\"--exact_pg_computation_tol\", type=float, default=1e-15, help=\"Deisred error tolerance.\")                                                                      \n",
    "\n",
    "    parser.add_argument(\"--ipg_do_linesearch\", default=True, type=lambda x: (str(x).lower()\n",
    "                        in ['true', '1', 'yes']), help=\"Whether do linesearch in the projected gradient ascent.\")\n",
    "    parser.add_argument(\"--ipg_linesearch_eta\", type=float, default=1e-4, help=\"eta of the linesearch.\")\n",
    "    parser.add_argument(\"--ipg_linesearch_xi\", type=float, default=0.8, help=\"xi of the linesearch.\")\n",
    "    parser.add_argument(\"--ipg_linesearch_beta\", type=float, default=1.2, help=\"beta of the linesearch.\")\n",
    "    parser.add_argument(\"--ipg_linesearch_limits\", type=int, default=100, help=\"max attempts of the linesearch.\")\n",
    "    \n",
    "    parser.add_argument(\"--ipg_strategy\", type=str, default=\"diminishing\", choices=[\"diminishing\"], \n",
    "        help=\"Strategy to inexactly evaluate the proximal operator.\\ndiminishing: c * np.log(k+1) / k**delta\")\n",
    "    parser.add_argument(\"--ipg_diminishing_c\", type=float, default=1, help=\"c of c * np.log(k+1) / k**delta\")\n",
    "    parser.add_argument(\"--ipg_diminishing_delta\", type=float, default=2, help=\"delta of c * np.log(k+1) / k**delta\")\n",
    "    config = parser.parse_args(\"\")\n",
    "    return config"
   ]
  },
  {
   "cell_type": "code",
   "execution_count": 100,
   "metadata": {},
   "outputs": [
    {
     "name": "stdout",
     "output_type": "stream",
     "text": [
      "using: [[0, 1, 2], [1, 2, 3], [0, 2, 4]]\n",
      "[[1. 0. 0. 0. 0. 0. 1. 0. 0.]\n",
      " [0. 1. 0. 1. 0. 0. 0. 0. 0.]\n",
      " [0. 0. 1. 0. 1. 0. 0. 1. 0.]\n",
      " [0. 0. 0. 0. 0. 1. 0. 0. 0.]\n",
      " [0. 0. 0. 0. 0. 0. 0. 0. 1.]]\n",
      "5\n",
      "252.58908176102412\n",
      "target duality gap:0.000 | subsolver status:desired | aoptim:2.805\n",
      "init x             : [[1.76405235 0.40015721 0.97873798 2.2408932  1.86755799]]\n",
      "approxmate solution: [[0.97437783 0.         0.         0.         0.81525549]]\n",
      "dual               : [[-7.54898474]]\n"
     ]
    }
   ],
   "source": [
    "groups = [[0,1,2], [1,2,3], [0,2,4]]\n",
    "print('using:', groups)\n",
    "config = get_config()\n",
    "r = NatOG(groups, penalty=1.0, config=config, weights=np.array([1,100,1]))\n",
    "print(r.A.todense())\n",
    "print(r.xdim)\n",
    "np.random.seed(0)\n",
    "x0 = np.random.randn(r.xdim, 1)\n",
    "print(r.func(x0))\n",
    "dk=np.random.randn(r.xdim, 1)\n",
    "alphak = 1.0\n",
    "xtrial, ytrial = r.compute_inexact_proximal_gradient_update(xk=x0, alphak=alphak, dk=dk, \n",
    "                                            y_init=None, stepsize_init=None, \n",
    "                                            ipg_kwargs={'iteration':100000})\n",
    "print(f'target duality gap:{r.targap:.3f} | subsolver status:{r.flag} | aoptim:{r.aoptim:.3f}')\n",
    "print('init x             :', x0.T)\n",
    "print('approxmate solution:', xtrial.T)\n",
    "Aytrial = r.A @ ytrial\n",
    "dual = alphak/2 * Aytrial.T@Aytrial + uk.T@Aytrial\n",
    "print('dual               :', dual)"
   ]
  },
  {
   "cell_type": "code",
   "execution_count": 101,
   "metadata": {},
   "outputs": [
    {
     "name": "stdout",
     "output_type": "stream",
     "text": [
      "\n",
      "The optimal value is -7.548983723326806\n",
      "[[-9.99999886e-01 -4.76447820e-05  6.03685322e-05  5.50224975e-01\n",
      "  -1.13065780e+00 -2.34527903e+00 -7.67013696e-01  1.51030187e-05\n",
      "  -6.41630650e-01]]\n"
     ]
    }
   ],
   "source": [
    "y = cp.Variable(ytrial.shape)\n",
    "uk = x0 - alphak * dk\n",
    "A = r.A\n",
    "Ay = A @ y\n",
    "obj = alphak/2 * cp.sum_squares(Ay) + uk.T@Ay\n",
    "constraints =  [cp.norm2(y[start:end]) <= radius for start, end, radius in zip(r.starts, r.ends, r.weights)]\n",
    "prob = cp.Problem(cp.Minimize(obj), constraints)\n",
    "prob.solve(solver=cp.GUROBI, verbose=False, max_iters=1000)\n",
    "print(\"\\nThe optimal value is\", prob.value)\n",
    "print(y.value.T)"
   ]
  },
  {
   "cell_type": "code",
   "execution_count": 102,
   "metadata": {},
   "outputs": [
    {
     "data": {
      "text/plain": [
       "(1.013372272318236e-06, 0.001328561619588002)"
      ]
     },
     "execution_count": 102,
     "metadata": {},
     "output_type": "execute_result"
    }
   ],
   "source": [
    "prob.value - dual.item(), np.linalg.norm(ytrial - y.value)"
   ]
  }
 ],
 "metadata": {
  "kernelspec": {
   "display_name": "base",
   "language": "python",
   "name": "python3"
  },
  "language_info": {
   "codemirror_mode": {
    "name": "ipython",
    "version": 3
   },
   "file_extension": ".py",
   "mimetype": "text/x-python",
   "name": "python",
   "nbconvert_exporter": "python",
   "pygments_lexer": "ipython3",
   "version": "3.9.7"
  },
  "orig_nbformat": 4
 },
 "nbformat": 4,
 "nbformat_minor": 2
}
