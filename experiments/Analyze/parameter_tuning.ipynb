{
 "cells": [
  {
   "cell_type": "code",
   "execution_count": 3,
   "metadata": {},
   "outputs": [],
   "source": [
    "import pandas as pd \n",
    "import numpy as np\n",
    "from collections import  OrderedDict"
   ]
  },
  {
   "attachments": {},
   "cell_type": "markdown",
   "metadata": {},
   "source": [
    "# LS + Btree"
   ]
  },
  {
   "cell_type": "code",
   "execution_count": 45,
   "metadata": {},
   "outputs": [],
   "source": [
    "def gen_path(solver, solver_hyper, regularizer, depth_lst, \n",
    "            remove_ratio_lst = [0.05, 0.1, 0.2], \n",
    "            purpose='leastsquare_btree/details', \n",
    "            loss='ls', task='btree', lammax=1.0, lam_shrink=1e-2, \n",
    "            ):\n",
    "    all_path = []\n",
    "    for depth in depth_lst:\n",
    "        dataset = f'ls_dep:{depth}_num:2x_sparse:0.1'\n",
    "        for remove_ratio in remove_ratio_lst:\n",
    "            path = f'../{purpose}/{solver}_{loss}_{regularizer}/{dataset}_lam_shrink:{lam_shrink}_{task}_{lammax}_{depth}_True_{remove_ratio}_{-1.0}'\n",
    "            for k,v in solver_hyper.items():\n",
    "                if k == 'ipg_strategy':\n",
    "                    parh += f'_{v}'\n",
    "                else:\n",
    "                    path += f'_{k}:{v}'\n",
    "            path += '_stats.npy'\n",
    "            all_path.append(path)\n",
    "    return all_path\n",
    "\n",
    "def create_hypers(solver, modify_dict={}):\n",
    "    task_hypers_template = {\n",
    "            'ProxGD':   OrderedDict({'proxgd_stepsize': 'linesearch'}),\n",
    "            'ProxSAGA': OrderedDict({ 'ipg_strategy': 'linear_decay', 'seed':2003, 'proxsaga_lipcoef': 1.0,}),\n",
    "            'ProxSVRG': OrderedDict({ 'ipg_strategy': 'linear_decay', 'seed':2003, 'proxsvrg_inner_repeat': 1, 'proxsvrg_lipcoef': 1.0}),\n",
    "            'PStorm':   OrderedDict({ 'ipg_strategy': 'diminishing', 'seed':2003,'pstorm_stepsize': 'diminishing', 'pstorm_betak': -1.0, 'pstorm_lipcoef': 1.0}),\n",
    "            'RDA':      OrderedDict({ 'ipg_strategy': 'diminishing', 'seed':2003, 'rda_stepconst': 1.0}),\n",
    "            'SPStorm':  OrderedDict({ 'ipg_strategy': 'diminishing', 'seed':2003, 'spstorm_betak': -1.0, 'spstorm_zeta': 'dynanmic', 'spstorm_lipcoef': 1.0})\n",
    "        }\n",
    "    hypers = task_hypers_template[solver]\n",
    "    for k,v in modify_dict.items():\n",
    "        hypers[k] = v\n",
    "    return hypers\n",
    "def load_from_npy(all_path, selected_keys=['xend', 'nnz', 'nz', 'Fend', 'iteration', 'status']):\n",
    "    ground_truth = {}\n",
    "    for path in all_path:\n",
    "        info = np.load(path, allow_pickle=True).item()\n",
    "        depth, remove_ratio = path.split('True')[0].split(\"_\")[-2], path.split('True')[1].split(\"_\")[1]\n",
    "        instance_name = f'{depth}_{remove_ratio}'\n",
    "        ground_truth[instance_name] = {k:info[k] for k in selected_keys}\n",
    "        if info['status'] != 0:\n",
    "            print(f'Warning: {instance_name} is not solved, status: {info[\"status\"]}')\n",
    "    return ground_truth\n",
    "        "
   ]
  },
  {
   "cell_type": "code",
   "execution_count": 46,
   "metadata": {},
   "outputs": [],
   "source": [
    "# get the ground truth\n",
    "solver = 'ProxGD'\n",
    "solver_hyper = create_hypers(solver)\n",
    "all_path = gen_path(solver, solver_hyper, regularizer='TreeOG', depth_lst=[11,12,13])\n",
    "ground_truth = load_from_npy(all_path)"
   ]
  }
 ],
 "metadata": {
  "kernelspec": {
   "display_name": "base",
   "language": "python",
   "name": "python3"
  },
  "language_info": {
   "codemirror_mode": {
    "name": "ipython",
    "version": 3
   },
   "file_extension": ".py",
   "mimetype": "text/x-python",
   "name": "python",
   "nbconvert_exporter": "python",
   "pygments_lexer": "ipython3",
   "version": "3.9.7"
  },
  "orig_nbformat": 4
 },
 "nbformat": 4,
 "nbformat_minor": 2
}
