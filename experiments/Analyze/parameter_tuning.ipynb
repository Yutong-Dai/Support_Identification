{
 "cells": [
  {
   "cell_type": "code",
   "execution_count": 1,
   "metadata": {
    "execution": {
     "iopub.execute_input": "2023-05-17T21:39:55.420335Z",
     "iopub.status.busy": "2023-05-17T21:39:55.419806Z",
     "iopub.status.idle": "2023-05-17T21:39:55.992975Z",
     "shell.execute_reply": "2023-05-17T21:39:55.991850Z",
     "shell.execute_reply.started": "2023-05-17T21:39:55.420295Z"
    },
    "tags": []
   },
   "outputs": [],
   "source": [
    "import pandas as pd \n",
    "import numpy as np\n",
    "from collections import  OrderedDict\n",
    "from copy import deepcopy"
   ]
  },
  {
   "cell_type": "markdown",
   "metadata": {},
   "source": [
    "# LS + Btree"
   ]
  },
  {
   "cell_type": "code",
   "execution_count": 2,
   "metadata": {
    "execution": {
     "iopub.execute_input": "2023-05-17T21:39:55.997431Z",
     "iopub.status.busy": "2023-05-17T21:39:55.997244Z",
     "iopub.status.idle": "2023-05-17T21:39:56.010385Z",
     "shell.execute_reply": "2023-05-17T21:39:56.009362Z",
     "shell.execute_reply.started": "2023-05-17T21:39:55.997413Z"
    },
    "tags": []
   },
   "outputs": [],
   "source": [
    "def gen_path(solver, solver_hyper, regularizer, depth_lst, \n",
    "            remove_ratio_lst = [0.05, 0.1, 0.2], \n",
    "            purpose='leastsquare_btree/details', \n",
    "            loss='ls', task='btree', lammax=1.0, lam_shrink=1e-2, \n",
    "            ):\n",
    "    all_path = []\n",
    "    for depth in depth_lst:\n",
    "        dataset = f'ls_dep:{depth}_num:2x_sparse:0.1'\n",
    "        for remove_ratio in remove_ratio_lst:\n",
    "            path = f'../{purpose}/{solver}_{loss}_{regularizer}/{dataset}_lam_shrink:{lam_shrink}_{task}_{lammax}_{depth}_True_{remove_ratio}_{-1.0}'\n",
    "            for k,v in solver_hyper.items():\n",
    "                if k == 'ipg_strategy':\n",
    "                    path += f'_{v}'\n",
    "                else:\n",
    "                    path += f'_{k}:{v}'\n",
    "            path += '_stats.npy'\n",
    "            all_path.append(path)\n",
    "    return all_path\n",
    "\n",
    "def create_hypers(solver, modify_dict={}):\n",
    "    task_hypers_template = {\n",
    "            'ProxGD':   OrderedDict({'proxgd_stepsize': 'linesearch'}),\n",
    "            'ProxSAGA': OrderedDict({ 'ipg_strategy': 'linear_decay', 'seed':2023, 'proxsaga_lipcoef': 1.0,}),\n",
    "            'ProxSVRG': OrderedDict({ 'ipg_strategy': 'linear_decay', 'seed':2023, 'proxsvrg_inner_repeat': 1, 'proxsvrg_lipcoef': 1.0}),\n",
    "            'PStorm':   OrderedDict({ 'ipg_strategy': 'diminishing', 'seed':2023,'pstorm_stepsize': 'diminishing', 'pstorm_betak': -1.0, 'pstorm_lipcoef': 1.0}),\n",
    "            'RDA':      OrderedDict({ 'ipg_strategy': 'diminishing', 'seed':2023, 'rda_stepconst': 1.0}),\n",
    "            'SPStorm':  OrderedDict({ 'ipg_strategy': 'diminishing', 'seed':2023, 'spstorm_betak': -1.0, 'spstorm_zeta': 'dynanmic', 'spstorm_lipcoef': 1.0})\n",
    "        }\n",
    "    hypers = task_hypers_template[solver]\n",
    "    for k,v in modify_dict.items():\n",
    "        hypers[k] = v\n",
    "    return hypers\n",
    "def load_from_npy(all_path, selected_keys=['xend', 'nnz', 'nz', 'Fend', 'iteration', 'status'], verbose=False):\n",
    "    instance_dict = {}\n",
    "    total_failed = 0\n",
    "    for path in all_path:\n",
    "        try:\n",
    "            info = np.load(path, allow_pickle=True).item()\n",
    "            depth, remove_ratio = path.split('True')[0].split(\"_\")[-2], path.split('True')[1].split(\"_\")[1]\n",
    "            instance_name = f'{depth}_{remove_ratio}'\n",
    "            instance_dict[instance_name] = {k:info[k] for k in selected_keys}\n",
    "            for k in ['total_bak_seq', 'inner_its_seq']:\n",
    "                if k in selected_keys:\n",
    "                    instance_dict[instance_name][k] = np.sum(info[k])\n",
    "            if info['status'] not in [0,1]:\n",
    "                if verbose:\n",
    "                    print(f'Warning: {instance_name} is not solved, status: {info[\"status\"]}')\n",
    "                total_failed += 1\n",
    "        except FileNotFoundError:\n",
    "            info = None\n",
    "    return instance_dict, total_failed"
   ]
  },
  {
   "cell_type": "code",
   "execution_count": 3,
   "metadata": {
    "execution": {
     "iopub.execute_input": "2023-05-17T21:39:56.789306Z",
     "iopub.status.busy": "2023-05-17T21:39:56.788809Z",
     "iopub.status.idle": "2023-05-17T21:39:57.200498Z",
     "shell.execute_reply": "2023-05-17T21:39:57.199296Z",
     "shell.execute_reply.started": "2023-05-17T21:39:56.789284Z"
    },
    "tags": []
   },
   "outputs": [],
   "source": [
    "# get the ground truth\n",
    "solver = 'ProxGD'\n",
    "solver_hyper = create_hypers(solver)\n",
    "all_path = gen_path(solver, solver_hyper, regularizer='TreeOG', depth_lst=[11,12,13])\n",
    "ground_truth, total_failed = load_from_npy(all_path)"
   ]
  },
  {
   "cell_type": "markdown",
   "metadata": {
    "execution": {
     "iopub.execute_input": "2023-05-11T14:26:54.959077Z",
     "iopub.status.busy": "2023-05-11T14:26:54.958022Z",
     "iopub.status.idle": "2023-05-11T14:26:54.966270Z",
     "shell.execute_reply": "2023-05-11T14:26:54.964673Z",
     "shell.execute_reply.started": "2023-05-11T14:26:54.959015Z"
    }
   },
   "source": [
    "## Linear_decay VS diminishing"
   ]
  },
  {
   "cell_type": "code",
   "execution_count": 5,
   "metadata": {
    "execution": {
     "iopub.execute_input": "2023-05-17T21:40:13.014076Z",
     "iopub.status.busy": "2023-05-17T21:40:13.013429Z",
     "iopub.status.idle": "2023-05-17T21:40:13.141798Z",
     "shell.execute_reply": "2023-05-17T21:40:13.140603Z",
     "shell.execute_reply.started": "2023-05-17T21:40:13.014033Z"
    },
    "tags": []
   },
   "outputs": [],
   "source": [
    "def get_alg_df(ground_truth, \n",
    "               solver = 'ProxSVRG',\n",
    "               ipg_strategy_lst = ['linear_decay', 'diminishing'],\n",
    "               lipcoef_lst = [0.1, 0.5, 1.0],\n",
    "               list_of_metric = ['best_F_diff', 'last_nz_diff', 'first_id', 'first_cst_id', 'total_id'],\n",
    "               max_epoch = 500):\n",
    "    # collect raw results for solver\n",
    "    dict_of_results = {}\n",
    "    for ipg_strategy in ipg_strategy_lst:\n",
    "        for lipcoef in lipcoef_lst:\n",
    "            solver_hyper = create_hypers(solver)\n",
    "            solver_hyper['ipg_strategy'] = ipg_strategy\n",
    "            if solver != 'RDA':\n",
    "                solver_hyper[f'{solver.lower()}_lipcoef'] = lipcoef\n",
    "            else:\n",
    "                solver_hyper[f'{solver.lower()}_stepconst'] = lipcoef\n",
    "            solver_all_path = gen_path(solver, solver_hyper, regularizer='NatOG', depth_lst=[11,12,13])\n",
    "            solver_result, total_failed = load_from_npy(solver_all_path, selected_keys=['time', 'total_bak_seq', 'inner_its_seq', 'Fbest', 'status', 'nz_seq'])\n",
    "            print(ipg_strategy, lipcoef, '--- [exit without code 0 or 1]:', total_failed)\n",
    "            print(\"=\"*50)\n",
    "            dict_of_results[f'{ipg_strategy}_{lipcoef}'] = (solver_result, total_failed)\n",
    "\n",
    "    # construct the df for ground truth    \n",
    "    df_dict = {'instance':[], 'ProxGD_best_F':[], 'ProxGD_nz':[]}\n",
    "    for k, v in ground_truth.items():\n",
    "        df_dict['instance'].append(k)\n",
    "        df_dict['ProxGD_best_F'].append(v['Fend'])\n",
    "        df_dict['ProxGD_nz'].append(v['nz'])   \n",
    "    \n",
    "    # construct the df for solver\n",
    "    for hyper_combine, solver_result in dict_of_results.items():\n",
    "        for metric in list_of_metric:\n",
    "            df_dict[f\"{solver}_{hyper_combine}_{metric}\"] = []\n",
    "        for instance_name, instance_info in solver_result[0].items():\n",
    "            nz_gt = ground_truth[instance_name]['nz']\n",
    "            F_gt = ground_truth[instance_name]['Fend']\n",
    "            nz_seq = instance_info['nz_seq']\n",
    "            if solver == \"ProxSVRG\":\n",
    "                # count as data pass\n",
    "                nz_seq = nz_seq[:max_epoch+1]\n",
    "            # handel identification metrics\n",
    "            temp = np.where(np.array(nz_seq) == nz_gt)[0]\n",
    "            total_identification = len(temp)\n",
    "            if total_identification > 0:\n",
    "                first_identification = temp[0]\n",
    "                first_consistent_identification = np.nan\n",
    "                for i in range(len(nz_seq)-1, -1, -1):\n",
    "                    if np.array(nz_seq[i]) != nz_gt:\n",
    "                        # the previous one is the first id\n",
    "                        first_consistent_identification = i + 1\n",
    "                        break\n",
    "                if first_consistent_identification == 0 or first_consistent_identification == (max_epoch+1):\n",
    "                    first_consistent_identification = np.nan\n",
    "            else:\n",
    "                first_identification = first_consistent_identification = total_identification = np.nan        \n",
    "            df_dict[f\"{solver}_{hyper_combine}_best_F_diff\"].append(np.abs(instance_info['Fbest']-F_gt))\n",
    "            df_dict[f\"{solver}_{hyper_combine}_last_nz_diff\"].append(np.abs(nz_seq[-1]-nz_gt))            \n",
    "            df_dict[f\"{solver}_{hyper_combine}_first_id\"].append(first_identification)   \n",
    "            df_dict[f\"{solver}_{hyper_combine}_first_cst_id\"].append(first_consistent_identification)\n",
    "            df_dict[f\"{solver}_{hyper_combine}_total_id\"].append(total_identification)\n",
    "        \n",
    "    return pd.DataFrame.from_dict(df_dict)"
   ]
  },
  {
   "cell_type": "markdown",
   "metadata": {},
   "source": [
    "### ProxSVRG"
   ]
  },
  {
   "cell_type": "code",
   "execution_count": 6,
   "metadata": {
    "execution": {
     "iopub.execute_input": "2023-05-17T21:40:17.817405Z",
     "iopub.status.busy": "2023-05-17T21:40:17.816160Z",
     "iopub.status.idle": "2023-05-17T21:40:20.033392Z",
     "shell.execute_reply": "2023-05-17T21:40:20.032312Z",
     "shell.execute_reply.started": "2023-05-17T21:40:17.817331Z"
    },
    "tags": []
   },
   "outputs": [
    {
     "name": "stdout",
     "output_type": "stream",
     "text": [
      "linear_decay 0.1 --- [exit without code 0 or 1]: 6\n",
      "==================================================\n",
      "linear_decay 0.5 --- [exit without code 0 or 1]: 3\n",
      "==================================================\n",
      "linear_decay 1.0 --- [exit without code 0 or 1]: 3\n",
      "==================================================\n",
      "diminishing 0.1 --- [exit without code 0 or 1]: 0\n",
      "==================================================\n",
      "diminishing 0.5 --- [exit without code 0 or 1]: 0\n",
      "==================================================\n",
      "diminishing 1.0 --- [exit without code 0 or 1]: 0\n",
      "==================================================\n"
     ]
    },
    {
     "data": {
      "text/plain": [
       "array([ 88., 194.])"
      ]
     },
     "execution_count": 6,
     "metadata": {},
     "output_type": "execute_result"
    }
   ],
   "source": [
    "ipg_strategy_lst = ['linear_decay', 'diminishing']\n",
    "lipcoef_lst = [0.1, 0.5, 1.0]\n",
    "list_of_metric = ['best_F_diff', 'last_nz_diff', 'first_id', 'first_cst_id', 'total_id']\n",
    "df = get_alg_df(ground_truth, \n",
    "               solver = 'ProxSVRG',\n",
    "               ipg_strategy_lst = ipg_strategy_lst,\n",
    "               lipcoef_lst = lipcoef_lst,\n",
    "               list_of_metric = list_of_metric,\n",
    "               max_epoch = 500)\n",
    "# rank them by metrics\n",
    "# 'bets_F_diff', 'last_nz_diff', 'first_id', 'first_cst_id', 'total_id'\n",
    "score_list = []\n",
    "for metric in list_of_metric:\n",
    "    selected_cols = [col_name for col_name in df.columns if metric in col_name]\n",
    "    df_metric = df[selected_cols].copy()\n",
    "    score_mat_lst = []\n",
    "    for lipcoef in lipcoef_lst:\n",
    "        df_metric_subset = df_metric[[col_name for col_name in df_metric.columns if str(lipcoef) in col_name]]\n",
    "        if metric != 'total_id':\n",
    "            # smaller the number, higher rank, hence higher score,the better; break tie by min; penalize failed case\n",
    "            df_rank = df_metric_subset.rank(axis=1, method='min', ascending=False).fillna(-1)\n",
    "        else:\n",
    "            # larger the number, higher rank, hence higher score,the better; break tie by min; penalize failed case\n",
    "            df_rank = df_metric_subset.rank(axis=1, method='max', ascending=True).fillna(-1)\n",
    "        \n",
    "        score_mat_lst.append(df_rank.to_numpy())\n",
    "        # print(df_metric_subset)\n",
    "        # print(df_rank)\n",
    "    score = np.sum(np.vstack(score_mat_lst), axis=0)\n",
    "    score_list.append(score)\n",
    "np.sum(np.vstack(score_list), axis=0)"
   ]
  },
  {
   "cell_type": "markdown",
   "metadata": {
    "execution": {
     "iopub.execute_input": "2023-05-12T03:45:00.090403Z",
     "iopub.status.busy": "2023-05-12T03:45:00.088879Z",
     "iopub.status.idle": "2023-05-12T03:45:00.130931Z",
     "shell.execute_reply": "2023-05-12T03:45:00.130414Z",
     "shell.execute_reply.started": "2023-05-12T03:45:00.090329Z"
    },
    "tags": []
   },
   "source": [
    "### ProxSAGA"
   ]
  },
  {
   "cell_type": "code",
   "execution_count": 7,
   "metadata": {
    "execution": {
     "iopub.execute_input": "2023-05-17T21:40:21.364435Z",
     "iopub.status.busy": "2023-05-17T21:40:21.363898Z",
     "iopub.status.idle": "2023-05-17T21:40:22.429946Z",
     "shell.execute_reply": "2023-05-17T21:40:22.428988Z",
     "shell.execute_reply.started": "2023-05-17T21:40:21.364411Z"
    },
    "tags": []
   },
   "outputs": [
    {
     "name": "stdout",
     "output_type": "stream",
     "text": [
      "linear_decay 0.1 --- [exit without code 0 or 1]: 9\n",
      "==================================================\n",
      "linear_decay 0.5 --- [exit without code 0 or 1]: 6\n",
      "==================================================\n",
      "linear_decay 1.0 --- [exit without code 0 or 1]: 3\n",
      "==================================================\n",
      "diminishing 0.1 --- [exit without code 0 or 1]: 0\n",
      "==================================================\n",
      "diminishing 0.5 --- [exit without code 0 or 1]: 0\n",
      "==================================================\n",
      "diminishing 1.0 --- [exit without code 0 or 1]: 0\n",
      "==================================================\n"
     ]
    },
    {
     "data": {
      "text/plain": [
       "array([ 88., 208.])"
      ]
     },
     "execution_count": 7,
     "metadata": {},
     "output_type": "execute_result"
    }
   ],
   "source": [
    "ipg_strategy_lst = ['linear_decay', 'diminishing']\n",
    "lipcoef_lst = [0.1, 0.5, 1.0]\n",
    "list_of_metric = ['best_F_diff', 'last_nz_diff', 'first_id', 'first_cst_id', 'total_id']\n",
    "df = get_alg_df(ground_truth, \n",
    "               solver = 'ProxSAGA',\n",
    "               ipg_strategy_lst = ipg_strategy_lst,\n",
    "               lipcoef_lst = lipcoef_lst,\n",
    "               list_of_metric = list_of_metric,\n",
    "               max_epoch = 500)\n",
    "# rank them by metrics\n",
    "# 'bets_F_diff', 'last_nz_diff', 'first_id', 'first_cst_id', 'total_id'\n",
    "score_list = []\n",
    "for metric in list_of_metric:\n",
    "    selected_cols = [col_name for col_name in df.columns if metric in col_name]\n",
    "    df_metric = df[selected_cols].copy()\n",
    "    score_mat_lst = []\n",
    "    for lipcoef in lipcoef_lst:\n",
    "        df_metric_subset = df_metric[[col_name for col_name in df_metric.columns if str(lipcoef) in col_name]]\n",
    "        if metric != 'total_id':\n",
    "            # smaller the number, higher rank, hence higher score,the better; break tie by min; penalize failed case\n",
    "            df_rank = df_metric_subset.rank(axis=1, method='min', ascending=False).fillna(-1)\n",
    "        else:\n",
    "            # larger the number, higher rank, hence higher score,the better; break tie by min; penalize failed case\n",
    "            df_rank = df_metric_subset.rank(axis=1, method='max', ascending=True).fillna(-1)\n",
    "        \n",
    "        score_mat_lst.append(df_rank.to_numpy())\n",
    "        # print(df_metric_subset)\n",
    "        # print(df_rank)\n",
    "    score = np.sum(np.vstack(score_mat_lst), axis=0)\n",
    "    score_list.append(score)\n",
    "np.sum(np.vstack(score_list), axis=0)"
   ]
  },
  {
   "cell_type": "markdown",
   "metadata": {},
   "source": [
    "## Tune stepsize (lipcoef, stepconst)"
   ]
  },
  {
   "cell_type": "code",
   "execution_count": 35,
   "metadata": {
    "execution": {
     "iopub.execute_input": "2023-05-17T21:53:23.464289Z",
     "iopub.status.busy": "2023-05-17T21:53:23.463700Z",
     "iopub.status.idle": "2023-05-17T21:53:25.788827Z",
     "shell.execute_reply": "2023-05-17T21:53:25.788102Z",
     "shell.execute_reply.started": "2023-05-17T21:53:23.464229Z"
    },
    "tags": []
   },
   "outputs": [
    {
     "name": "stdout",
     "output_type": "stream",
     "text": [
      "diminishing 0.1 --- [exit without code 0 or 1]: 9\n",
      "==================================================\n",
      "diminishing 1.0 --- [exit without code 0 or 1]: 6\n",
      "==================================================\n",
      "diminishing 10.0 --- [exit without code 0 or 1]: 2\n",
      "==================================================\n",
      "RDA [-9. 19. 13.]\n",
      "diminishing 0.1 --- [exit without code 0 or 1]: 0\n",
      "==================================================\n",
      "diminishing 0.5 --- [exit without code 0 or 1]: 0\n",
      "==================================================\n",
      "diminishing 1.0 --- [exit without code 0 or 1]: 0\n",
      "==================================================\n",
      "ProxSVRG [ 33.  80. 107.]\n",
      "diminishing 0.1 --- [exit without code 0 or 1]: 0\n",
      "==================================================\n",
      "diminishing 0.5 --- [exit without code 0 or 1]: 0\n",
      "==================================================\n",
      "diminishing 1.0 --- [exit without code 0 or 1]: 0\n",
      "==================================================\n",
      "ProxSAGA [ 45.  84. 112.]\n",
      "diminishing 0.1 --- [exit without code 0 or 1]: 0\n",
      "==================================================\n",
      "diminishing 0.5 --- [exit without code 0 or 1]: 0\n",
      "==================================================\n",
      "diminishing 1.0 --- [exit without code 0 or 1]: 0\n",
      "==================================================\n",
      "PStorm [-9. -9. -9.]\n",
      "diminishing 0.1 --- [exit without code 0 or 1]: 1\n",
      "==================================================\n",
      "diminishing 0.5 --- [exit without code 0 or 1]: 1\n",
      "==================================================\n",
      "diminishing 1.0 --- [exit without code 0 or 1]: 0\n",
      "==================================================\n",
      "SPStorm [ 58.  84. 101.]\n"
     ]
    }
   ],
   "source": [
    "for solver in ['RDA', 'ProxSVRG', 'ProxSAGA', 'PStorm', 'SPStorm']:\n",
    "    ipg_strategy_lst = ['diminishing']\n",
    "    if solver == 'RDA':\n",
    "        lipcoef_lst = [0.1, 1.0, 10.0]\n",
    "    else:\n",
    "        lipcoef_lst = [0.1, 0.5, 1.0]\n",
    "    list_of_metric = ['best_F_diff', 'last_nz_diff', 'first_id', 'first_cst_id', 'total_id']\n",
    "    df = get_alg_df(ground_truth, \n",
    "                   solver = solver,\n",
    "                   ipg_strategy_lst = ipg_strategy_lst,\n",
    "                   lipcoef_lst = lipcoef_lst,\n",
    "                   list_of_metric = list_of_metric,\n",
    "                   max_epoch = 500)\n",
    "    # rank them by metrics\n",
    "    # 'bets_F_diff', 'last_nz_diff', 'first_id', 'first_cst_id', 'total_id'\n",
    "    score_list = []\n",
    "    for metric in list_of_metric:\n",
    "        selected_cols = [col_name for col_name in df.columns if metric in col_name]\n",
    "        df_metric = df[selected_cols].copy()\n",
    "        score_mat_lst = []\n",
    "        if metric != 'total_id':\n",
    "            # smaller the number, higher rank, hence higher score,the better; break tie by min; penalize failed case\n",
    "            df_rank = df_metric.rank(axis=1, method='min', ascending=False).fillna(-1)\n",
    "        else:\n",
    "            # larger the number, higher rank, hence higher score,the better; break tie by min; penalize failed case\n",
    "            df_rank = df_metric.rank(axis=1, method='max', ascending=True).fillna(-1)\n",
    "\n",
    "        score_mat_lst.append(df_rank.to_numpy())\n",
    "            # print(df_metric_subset)\n",
    "            # print(df_rank)\n",
    "        score = np.sum(np.vstack(score_mat_lst), axis=0)\n",
    "        score_list.append(score)\n",
    "    print(solver, np.sum(np.vstack(score_list), axis=0))"
   ]
  },
  {
   "cell_type": "code",
   "execution_count": 28,
   "metadata": {
    "execution": {
     "iopub.execute_input": "2023-05-17T21:49:19.258664Z",
     "iopub.status.busy": "2023-05-17T21:49:19.258344Z",
     "iopub.status.idle": "2023-05-17T21:49:19.263796Z",
     "shell.execute_reply": "2023-05-17T21:49:19.263086Z",
     "shell.execute_reply.started": "2023-05-17T21:49:19.258639Z"
    },
    "tags": []
   },
   "outputs": [],
   "source": [
    "# df = get_alg_df(ground_truth, \n",
    "#                solver = 'RDA',\n",
    "#                ipg_strategy_lst = ipg_strategy_lst,\n",
    "#                lipcoef_lst = [0.1, 0.5, 1.0, 10, 100],\n",
    "#                list_of_metric = list_of_metric,\n",
    "#                max_epoch = 500)\n",
    "# df[['instance',\t'ProxGD_best_F', 'ProxGD_nz'] + [col for col in df.columns if str(0.5) in col]]"
   ]
  },
  {
   "cell_type": "code",
   "execution_count": 40,
   "metadata": {
    "execution": {
     "iopub.execute_input": "2023-05-17T21:55:54.371228Z",
     "iopub.status.busy": "2023-05-17T21:55:54.370615Z",
     "iopub.status.idle": "2023-05-17T21:55:54.376686Z",
     "shell.execute_reply": "2023-05-17T21:55:54.375533Z",
     "shell.execute_reply.started": "2023-05-17T21:55:54.371189Z"
    },
    "tags": []
   },
   "outputs": [],
   "source": [
    "# solver = 'RDA'\n",
    "# dict_of_results = {}\n",
    "# for lipcoef in [0.1, 0.5, 1.0, 10.0, 100.0]:\n",
    "#     solver_hyper = create_hypers(solver)\n",
    "#     solver_hyper['ipg_strategy'] = 'diminishing'\n",
    "#     if solver != 'RDA':\n",
    "#         solver_hyper[f'{solver.lower()}_lipcoef'] = lipcoef\n",
    "#     else:\n",
    "#         solver_hyper[f'{solver.lower()}_stepconst'] = lipcoef\n",
    "#     solver_all_path = gen_path(solver, solver_hyper, regularizer='NatOG', depth_lst=[11,12,13])\n",
    "#     solver_result, total_failed = load_from_npy(solver_all_path, selected_keys=['time', 'total_bak_seq', 'inner_its_seq', 'Fbest', 'status', 'nz_seq'])\n",
    "#     print('diminishing', lipcoef, '--- [exit without code 0 or 1]:', total_failed)\n",
    "#     print(\"=\"*50)\n",
    "#     dict_of_results[f'diminishing_{lipcoef}'] = (solver_result, total_failed)"
   ]
  },
  {
   "cell_type": "code",
   "execution_count": 30,
   "metadata": {
    "execution": {
     "iopub.execute_input": "2023-05-17T21:49:51.328292Z",
     "iopub.status.busy": "2023-05-17T21:49:51.326954Z",
     "iopub.status.idle": "2023-05-17T21:49:51.334119Z",
     "shell.execute_reply": "2023-05-17T21:49:51.332701Z",
     "shell.execute_reply.started": "2023-05-17T21:49:51.328230Z"
    },
    "tags": []
   },
   "outputs": [],
   "source": [
    "# for c in [0.1, 0.5, 1.0, 10.0, 100.0]:\n",
    "#     infos = dict_of_results[f'diminishing_{c}'][0]\n",
    "#     print(f\"================================ {c} =================================\")\n",
    "#     for instance in infos.keys():\n",
    "#         print(f\"status: {infos[instance]['status']:+d}, inner_its: {infos[instance]['inner_its_seq']:8d}, total_bak_seq: {infos[instance]['total_bak_seq']:8d}\")\n"
   ]
  },
  {
   "cell_type": "code",
   "execution_count": null,
   "metadata": {},
   "outputs": [],
   "source": [
    "# solver = 'ProxSVRG'\n",
    "# dict_of_results = {}\n",
    "# for ipg_strategy in ['linear_decay', 'diminishing']:\n",
    "#     for lipcoef in [0.1, 0.5, 1.0]:\n",
    "#         solver_hyper = create_hypers(solver)\n",
    "#         solver_hyper['ipg_strategy'] = ipg_strategy\n",
    "#         solver_hyper[f'{solver.lower()}_lipcoef'] = lipcoef\n",
    "#         solver_all_path = gen_path(solver, solver_hyper, regularizer='NatOG', depth_lst=[11,12,13])\n",
    "#         solver_result, total_failed = load_from_npy(solver_all_path, selected_keys=['time', 'total_bak_seq', 'inner_its_seq', 'Fbest', 'status', 'nz_seq'])\n",
    "#         print(ipg_strategy, lipcoef, '--- [exit without code 0 or 1]:', total_failed)\n",
    "#         print(\"=\"*50)\n",
    "#         dict_of_results[f'{ipg_strategy}_{lipcoef}'] = (solver_result, total_failed)\n",
    "\n",
    "# code for check why exits without code 0 ,1       \n",
    "# solver_hyper = create_hypers(solver)\n",
    "# solver_hyper['ipg_strategy'] = 'linear_decay'\n",
    "# solver_hyper[f'{solver.lower()}_lipcoef'] = 0.1\n",
    "# solver_all_path = gen_path(solver, solver_hyper, regularizer='NatOG', depth_lst=[11,12,13])\n",
    "# solver_result, total_failed = load_from_npy(solver_all_path, selected_keys=['time', 'total_bak_seq', 'inner_its_seq', 'Fbest', 'status'], verbose=True)\n",
    "# for i in range(len(solver_all_path)):\n",
    "#     info = np.load(solver_all_path[i], allow_pickle=True).item()\n",
    "#     print(np.sum(info['total_bak_seq']),np.sum(info['inner_its_seq']))\n",
    "\n",
    "\n",
    "# # objective value\n",
    "# selected_cols = [col_name for col_name in df.columns if 'best_F' in col_name]\n",
    "# df_F = df[selected_cols].copy()\n",
    "# for col in selected_cols[1:]:\n",
    "#     df_F[col] = np.abs(df_F[col] - df_F[selected_cols[0]])\n",
    "\n",
    "# score_mat_lst = []\n",
    "# for lipcoef in lipcoef_lst:\n",
    "#     df_F_subset = df_F[[col_name for col_name in df_F.columns if str(lipcoef) in col_name]]\n",
    "#     # smaller difference, higher rank, hence higher score,the better; break tie by min\n",
    "#     score_mat_lst.append(df_F_subset.rank(axis=1, method='min', ascending=False).to_numpy())\n",
    "# F_score = np.sum(np.vstack(score_mat_lst)-1.0, axis=0)"
   ]
  }
 ],
 "metadata": {
  "kernelspec": {
   "display_name": "Python 3 (ipykernel)",
   "language": "python",
   "name": "python3"
  },
  "language_info": {
   "codemirror_mode": {
    "name": "ipython",
    "version": 3
   },
   "file_extension": ".py",
   "mimetype": "text/x-python",
   "name": "python",
   "nbconvert_exporter": "python",
   "pygments_lexer": "ipython3",
   "version": "3.9.7"
  }
 },
 "nbformat": 4,
 "nbformat_minor": 4
}
