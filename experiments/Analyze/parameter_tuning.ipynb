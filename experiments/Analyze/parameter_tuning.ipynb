{
 "cells": [
  {
   "cell_type": "code",
   "execution_count": 116,
   "metadata": {
    "execution": {
     "iopub.execute_input": "2023-05-20T00:51:17.950213Z",
     "iopub.status.busy": "2023-05-20T00:51:17.949753Z",
     "iopub.status.idle": "2023-05-20T00:51:17.955366Z",
     "shell.execute_reply": "2023-05-20T00:51:17.954202Z",
     "shell.execute_reply.started": "2023-05-20T00:51:17.950187Z"
    },
    "tags": []
   },
   "outputs": [],
   "source": [
    "import pandas as pd \n",
    "import numpy as np\n",
    "from collections import  OrderedDict\n",
    "from copy import deepcopy\n",
    "from matplotlib import pyplot as plt\n",
    "from matplotlib import rc\n",
    "plt.rcParams.update({\"text.usetex\": True})\n",
    "plt.rcParams['font.family']='sans-serif'"
   ]
  },
  {
   "cell_type": "markdown",
   "metadata": {},
   "source": [
    "# LS + Btree"
   ]
  },
  {
   "cell_type": "code",
   "execution_count": 9,
   "metadata": {
    "execution": {
     "iopub.execute_input": "2023-05-19T20:23:35.131134Z",
     "iopub.status.busy": "2023-05-19T20:23:35.130227Z",
     "iopub.status.idle": "2023-05-19T20:23:35.155789Z",
     "shell.execute_reply": "2023-05-19T20:23:35.154907Z",
     "shell.execute_reply.started": "2023-05-19T20:23:35.131053Z"
    },
    "tags": []
   },
   "outputs": [],
   "source": [
    "def gen_path(solver, solver_hyper, regularizer, depth_lst, \n",
    "            remove_ratio_lst = [0.05, 0.1, 0.2], \n",
    "            purpose='leastsquare_btree/details', \n",
    "            loss='ls', task='btree', lammax=1.0, lam_shrink=1e-2, \n",
    "            ):\n",
    "    all_path = []\n",
    "    for depth in depth_lst:\n",
    "        dataset = f'ls_dep:{depth}_num:2x_sparse:0.1'\n",
    "        for remove_ratio in remove_ratio_lst:\n",
    "            path = f'../{purpose}/{solver}_{loss}_{regularizer}/{dataset}_lam_shrink:{lam_shrink}_{task}_{lammax}_{depth}_True_{remove_ratio}_{-1.0}'\n",
    "            for k,v in solver_hyper.items():\n",
    "                if k == 'ipg_strategy':\n",
    "                    path += f'_{v}'\n",
    "                else:\n",
    "                    path += f'_{k}:{v}'\n",
    "            path += '_stats.npy'\n",
    "            all_path.append(path)\n",
    "    return all_path\n",
    "\n",
    "def create_hypers(solver, modify_dict={}):\n",
    "    task_hypers_template = {\n",
    "            'ProxGD':   OrderedDict({'proxgd_stepsize': 'linesearch'}),\n",
    "            'ProxSAGA': OrderedDict({ 'ipg_strategy': 'linear_decay', 'seed':2023, 'proxsaga_lipcoef': 1.0,}),\n",
    "            'ProxSVRG': OrderedDict({ 'ipg_strategy': 'linear_decay', 'seed':2023, 'proxsvrg_inner_repeat': 1, 'proxsvrg_lipcoef': 1.0}),\n",
    "            'PStorm':   OrderedDict({ 'ipg_strategy': 'diminishing', 'seed':2023,'pstorm_stepsize': 'diminishing', 'pstorm_betak': -1.0, 'pstorm_lipcoef': 1.0}),\n",
    "            'RDA':      OrderedDict({ 'ipg_strategy': 'diminishing', 'seed':2023, 'rda_stepconst': 1.0}),\n",
    "            'SPStorm':  OrderedDict({ 'ipg_strategy': 'diminishing', 'seed':2023, 'spstorm_betak': -1.0, 'spstorm_zeta': 'dynanmic', 'spstorm_lipcoef': 1.0})\n",
    "        }\n",
    "    hypers = task_hypers_template[solver]\n",
    "    for k,v in modify_dict.items():\n",
    "        hypers[k] = v\n",
    "    return hypers\n",
    "def load_from_npy(all_path, selected_keys=['xend', 'nnz', 'nz', 'Fend', 'iteration', 'status'], verbose=False):\n",
    "    instance_dict = {}\n",
    "    total_failed = 0\n",
    "    for path in all_path:\n",
    "        try:\n",
    "            info = np.load(path, allow_pickle=True).item()\n",
    "            depth, remove_ratio = path.split('True')[0].split(\"_\")[-2], path.split('True')[1].split(\"_\")[1]\n",
    "            instance_name = f'{depth}_{remove_ratio}'\n",
    "            instance_dict[instance_name] = {k:info[k] for k in selected_keys}\n",
    "            for k in ['total_bak_seq', 'inner_its_seq']:\n",
    "                if k in selected_keys:\n",
    "                    instance_dict[instance_name][k] = np.sum(info[k])\n",
    "            if info['status'] not in [0,1]:\n",
    "                if verbose:\n",
    "                    print(f'Warning: {instance_name} is not solved, status: {info[\"status\"]}')\n",
    "                total_failed += 1\n",
    "        except FileNotFoundError:\n",
    "            info = None\n",
    "    return instance_dict, total_failed"
   ]
  },
  {
   "cell_type": "code",
   "execution_count": 3,
   "metadata": {
    "execution": {
     "iopub.execute_input": "2023-05-17T21:39:56.789306Z",
     "iopub.status.busy": "2023-05-17T21:39:56.788809Z",
     "iopub.status.idle": "2023-05-17T21:39:57.200498Z",
     "shell.execute_reply": "2023-05-17T21:39:57.199296Z",
     "shell.execute_reply.started": "2023-05-17T21:39:56.789284Z"
    },
    "tags": []
   },
   "outputs": [],
   "source": [
    "# get the ground truth\n",
    "solver = 'ProxGD'\n",
    "solver_hyper = create_hypers(solver)\n",
    "all_path = gen_path(solver, solver_hyper, regularizer='TreeOG', depth_lst=[11,12,13])\n",
    "ground_truth, total_failed = load_from_npy(all_path)"
   ]
  },
  {
   "cell_type": "markdown",
   "metadata": {
    "execution": {
     "iopub.execute_input": "2023-05-11T14:26:54.959077Z",
     "iopub.status.busy": "2023-05-11T14:26:54.958022Z",
     "iopub.status.idle": "2023-05-11T14:26:54.966270Z",
     "shell.execute_reply": "2023-05-11T14:26:54.964673Z",
     "shell.execute_reply.started": "2023-05-11T14:26:54.959015Z"
    }
   },
   "source": [
    "## Linear_decay VS diminishing"
   ]
  },
  {
   "cell_type": "code",
   "execution_count": 5,
   "metadata": {
    "execution": {
     "iopub.execute_input": "2023-05-17T21:40:13.014076Z",
     "iopub.status.busy": "2023-05-17T21:40:13.013429Z",
     "iopub.status.idle": "2023-05-17T21:40:13.141798Z",
     "shell.execute_reply": "2023-05-17T21:40:13.140603Z",
     "shell.execute_reply.started": "2023-05-17T21:40:13.014033Z"
    },
    "tags": []
   },
   "outputs": [],
   "source": [
    "def get_alg_df(ground_truth, \n",
    "               solver = 'ProxSVRG',\n",
    "               ipg_strategy_lst = ['linear_decay', 'diminishing'],\n",
    "               lipcoef_lst = [0.1, 0.5, 1.0],\n",
    "               list_of_metric = ['best_F_diff', 'last_nz_diff', 'first_id', 'first_cst_id', 'total_id'],\n",
    "               max_epoch = 500):\n",
    "    # collect raw results for solver\n",
    "    dict_of_results = {}\n",
    "    for ipg_strategy in ipg_strategy_lst:\n",
    "        for lipcoef in lipcoef_lst:\n",
    "            solver_hyper = create_hypers(solver)\n",
    "            solver_hyper['ipg_strategy'] = ipg_strategy\n",
    "            if solver != 'RDA':\n",
    "                solver_hyper[f'{solver.lower()}_lipcoef'] = lipcoef\n",
    "            else:\n",
    "                solver_hyper[f'{solver.lower()}_stepconst'] = lipcoef\n",
    "            solver_all_path = gen_path(solver, solver_hyper, regularizer='NatOG', depth_lst=[11,12,13])\n",
    "            solver_result, total_failed = load_from_npy(solver_all_path, selected_keys=['time', 'total_bak_seq', 'inner_its_seq', 'Fbest', 'status', 'nz_seq'])\n",
    "            print(ipg_strategy, lipcoef, '--- [exit without code 0 or 1]:', total_failed)\n",
    "            print(\"=\"*50)\n",
    "            dict_of_results[f'{ipg_strategy}_{lipcoef}'] = (solver_result, total_failed)\n",
    "\n",
    "    # construct the df for ground truth    \n",
    "    df_dict = {'instance':[], 'ProxGD_best_F':[], 'ProxGD_nz':[]}\n",
    "    for k, v in ground_truth.items():\n",
    "        df_dict['instance'].append(k)\n",
    "        df_dict['ProxGD_best_F'].append(v['Fend'])\n",
    "        df_dict['ProxGD_nz'].append(v['nz'])   \n",
    "    \n",
    "    # construct the df for solver\n",
    "    for hyper_combine, solver_result in dict_of_results.items():\n",
    "        for metric in list_of_metric:\n",
    "            df_dict[f\"{solver}_{hyper_combine}_{metric}\"] = []\n",
    "        for instance_name, instance_info in solver_result[0].items():\n",
    "            nz_gt = ground_truth[instance_name]['nz']\n",
    "            F_gt = ground_truth[instance_name]['Fend']\n",
    "            nz_seq = instance_info['nz_seq']\n",
    "            if solver == \"ProxSVRG\":\n",
    "                # count as data pass\n",
    "                nz_seq = nz_seq[:max_epoch+1]\n",
    "            # handel identification metrics\n",
    "            temp = np.where(np.array(nz_seq) == nz_gt)[0]\n",
    "            total_identification = len(temp)\n",
    "            if total_identification > 0:\n",
    "                first_identification = temp[0]\n",
    "                first_consistent_identification = np.nan\n",
    "                for i in range(len(nz_seq)-1, -1, -1):\n",
    "                    if np.array(nz_seq[i]) != nz_gt:\n",
    "                        # the previous one is the first id\n",
    "                        first_consistent_identification = i + 1\n",
    "                        break\n",
    "                if first_consistent_identification == 0 or first_consistent_identification == (max_epoch+1):\n",
    "                    first_consistent_identification = np.nan\n",
    "            else:\n",
    "                first_identification = first_consistent_identification = total_identification = np.nan        \n",
    "            df_dict[f\"{solver}_{hyper_combine}_best_F_diff\"].append(np.abs(instance_info['Fbest']-F_gt))\n",
    "            df_dict[f\"{solver}_{hyper_combine}_last_nz_diff\"].append(np.abs(nz_seq[-1]-nz_gt))            \n",
    "            df_dict[f\"{solver}_{hyper_combine}_first_id\"].append(first_identification)   \n",
    "            df_dict[f\"{solver}_{hyper_combine}_first_cst_id\"].append(first_consistent_identification)\n",
    "            df_dict[f\"{solver}_{hyper_combine}_total_id\"].append(total_identification)\n",
    "        \n",
    "    return pd.DataFrame.from_dict(df_dict)"
   ]
  },
  {
   "cell_type": "markdown",
   "metadata": {},
   "source": [
    "### ProxSVRG"
   ]
  },
  {
   "cell_type": "code",
   "execution_count": 6,
   "metadata": {
    "execution": {
     "iopub.execute_input": "2023-05-17T21:40:17.817405Z",
     "iopub.status.busy": "2023-05-17T21:40:17.816160Z",
     "iopub.status.idle": "2023-05-17T21:40:20.033392Z",
     "shell.execute_reply": "2023-05-17T21:40:20.032312Z",
     "shell.execute_reply.started": "2023-05-17T21:40:17.817331Z"
    },
    "tags": []
   },
   "outputs": [
    {
     "name": "stdout",
     "output_type": "stream",
     "text": [
      "linear_decay 0.1 --- [exit without code 0 or 1]: 6\n",
      "==================================================\n",
      "linear_decay 0.5 --- [exit without code 0 or 1]: 3\n",
      "==================================================\n",
      "linear_decay 1.0 --- [exit without code 0 or 1]: 3\n",
      "==================================================\n",
      "diminishing 0.1 --- [exit without code 0 or 1]: 0\n",
      "==================================================\n",
      "diminishing 0.5 --- [exit without code 0 or 1]: 0\n",
      "==================================================\n",
      "diminishing 1.0 --- [exit without code 0 or 1]: 0\n",
      "==================================================\n"
     ]
    },
    {
     "data": {
      "text/plain": [
       "array([ 88., 194.])"
      ]
     },
     "execution_count": 6,
     "metadata": {},
     "output_type": "execute_result"
    }
   ],
   "source": [
    "ipg_strategy_lst = ['linear_decay', 'diminishing']\n",
    "lipcoef_lst = [0.1, 0.5, 1.0]\n",
    "list_of_metric = ['best_F_diff', 'last_nz_diff', 'first_id', 'first_cst_id', 'total_id']\n",
    "df = get_alg_df(ground_truth, \n",
    "               solver = 'ProxSVRG',\n",
    "               ipg_strategy_lst = ipg_strategy_lst,\n",
    "               lipcoef_lst = lipcoef_lst,\n",
    "               list_of_metric = list_of_metric,\n",
    "               max_epoch = 500)\n",
    "# rank them by metrics\n",
    "# 'bets_F_diff', 'last_nz_diff', 'first_id', 'first_cst_id', 'total_id'\n",
    "score_list = []\n",
    "for metric in list_of_metric:\n",
    "    selected_cols = [col_name for col_name in df.columns if metric in col_name]\n",
    "    df_metric = df[selected_cols].copy()\n",
    "    score_mat_lst = []\n",
    "    for lipcoef in lipcoef_lst:\n",
    "        df_metric_subset = df_metric[[col_name for col_name in df_metric.columns if str(lipcoef) in col_name]]\n",
    "        if metric != 'total_id':\n",
    "            # smaller the number, higher rank, hence higher score,the better; break tie by min; penalize failed case\n",
    "            df_rank = df_metric_subset.rank(axis=1, method='min', ascending=False).fillna(-1)\n",
    "        else:\n",
    "            # larger the number, higher rank, hence higher score,the better; break tie by min; penalize failed case\n",
    "            df_rank = df_metric_subset.rank(axis=1, method='max', ascending=True).fillna(-1)\n",
    "        \n",
    "        score_mat_lst.append(df_rank.to_numpy())\n",
    "        # print(df_metric_subset)\n",
    "        # print(df_rank)\n",
    "    score = np.sum(np.vstack(score_mat_lst), axis=0)\n",
    "    score_list.append(score)\n",
    "np.sum(np.vstack(score_list), axis=0)"
   ]
  },
  {
   "cell_type": "markdown",
   "metadata": {
    "execution": {
     "iopub.execute_input": "2023-05-12T03:45:00.090403Z",
     "iopub.status.busy": "2023-05-12T03:45:00.088879Z",
     "iopub.status.idle": "2023-05-12T03:45:00.130931Z",
     "shell.execute_reply": "2023-05-12T03:45:00.130414Z",
     "shell.execute_reply.started": "2023-05-12T03:45:00.090329Z"
    },
    "tags": []
   },
   "source": [
    "### ProxSAGA"
   ]
  },
  {
   "cell_type": "code",
   "execution_count": 7,
   "metadata": {
    "execution": {
     "iopub.execute_input": "2023-05-17T21:40:21.364435Z",
     "iopub.status.busy": "2023-05-17T21:40:21.363898Z",
     "iopub.status.idle": "2023-05-17T21:40:22.429946Z",
     "shell.execute_reply": "2023-05-17T21:40:22.428988Z",
     "shell.execute_reply.started": "2023-05-17T21:40:21.364411Z"
    },
    "tags": []
   },
   "outputs": [
    {
     "name": "stdout",
     "output_type": "stream",
     "text": [
      "linear_decay 0.1 --- [exit without code 0 or 1]: 9\n",
      "==================================================\n",
      "linear_decay 0.5 --- [exit without code 0 or 1]: 6\n",
      "==================================================\n",
      "linear_decay 1.0 --- [exit without code 0 or 1]: 3\n",
      "==================================================\n",
      "diminishing 0.1 --- [exit without code 0 or 1]: 0\n",
      "==================================================\n",
      "diminishing 0.5 --- [exit without code 0 or 1]: 0\n",
      "==================================================\n",
      "diminishing 1.0 --- [exit without code 0 or 1]: 0\n",
      "==================================================\n"
     ]
    },
    {
     "data": {
      "text/plain": [
       "array([ 88., 208.])"
      ]
     },
     "execution_count": 7,
     "metadata": {},
     "output_type": "execute_result"
    }
   ],
   "source": [
    "ipg_strategy_lst = ['linear_decay', 'diminishing']\n",
    "lipcoef_lst = [0.1, 0.5, 1.0]\n",
    "list_of_metric = ['best_F_diff', 'last_nz_diff', 'first_id', 'first_cst_id', 'total_id']\n",
    "df = get_alg_df(ground_truth, \n",
    "               solver = 'ProxSAGA',\n",
    "               ipg_strategy_lst = ipg_strategy_lst,\n",
    "               lipcoef_lst = lipcoef_lst,\n",
    "               list_of_metric = list_of_metric,\n",
    "               max_epoch = 500)\n",
    "# rank them by metrics\n",
    "# 'bets_F_diff', 'last_nz_diff', 'first_id', 'first_cst_id', 'total_id'\n",
    "score_list = []\n",
    "for metric in list_of_metric:\n",
    "    selected_cols = [col_name for col_name in df.columns if metric in col_name]\n",
    "    df_metric = df[selected_cols].copy()\n",
    "    score_mat_lst = []\n",
    "    for lipcoef in lipcoef_lst:\n",
    "        df_metric_subset = df_metric[[col_name for col_name in df_metric.columns if str(lipcoef) in col_name]]\n",
    "        if metric != 'total_id':\n",
    "            # smaller the number, higher rank, hence higher score,the better; break tie by min; penalize failed case\n",
    "            df_rank = df_metric_subset.rank(axis=1, method='min', ascending=False).fillna(-1)\n",
    "        else:\n",
    "            # larger the number, higher rank, hence higher score,the better; break tie by min; penalize failed case\n",
    "            df_rank = df_metric_subset.rank(axis=1, method='max', ascending=True).fillna(-1)\n",
    "        \n",
    "        score_mat_lst.append(df_rank.to_numpy())\n",
    "        # print(df_metric_subset)\n",
    "        # print(df_rank)\n",
    "    score = np.sum(np.vstack(score_mat_lst), axis=0)\n",
    "    score_list.append(score)\n",
    "np.sum(np.vstack(score_list), axis=0)"
   ]
  },
  {
   "cell_type": "markdown",
   "metadata": {},
   "source": [
    "## Tune stepsize (lipcoef, stepconst)"
   ]
  },
  {
   "cell_type": "code",
   "execution_count": 35,
   "metadata": {
    "execution": {
     "iopub.execute_input": "2023-05-17T21:53:23.464289Z",
     "iopub.status.busy": "2023-05-17T21:53:23.463700Z",
     "iopub.status.idle": "2023-05-17T21:53:25.788827Z",
     "shell.execute_reply": "2023-05-17T21:53:25.788102Z",
     "shell.execute_reply.started": "2023-05-17T21:53:23.464229Z"
    },
    "tags": []
   },
   "outputs": [
    {
     "name": "stdout",
     "output_type": "stream",
     "text": [
      "diminishing 0.1 --- [exit without code 0 or 1]: 9\n",
      "==================================================\n",
      "diminishing 1.0 --- [exit without code 0 or 1]: 6\n",
      "==================================================\n",
      "diminishing 10.0 --- [exit without code 0 or 1]: 2\n",
      "==================================================\n",
      "RDA [-9. 19. 13.]\n",
      "diminishing 0.1 --- [exit without code 0 or 1]: 0\n",
      "==================================================\n",
      "diminishing 0.5 --- [exit without code 0 or 1]: 0\n",
      "==================================================\n",
      "diminishing 1.0 --- [exit without code 0 or 1]: 0\n",
      "==================================================\n",
      "ProxSVRG [ 33.  80. 107.]\n",
      "diminishing 0.1 --- [exit without code 0 or 1]: 0\n",
      "==================================================\n",
      "diminishing 0.5 --- [exit without code 0 or 1]: 0\n",
      "==================================================\n",
      "diminishing 1.0 --- [exit without code 0 or 1]: 0\n",
      "==================================================\n",
      "ProxSAGA [ 45.  84. 112.]\n",
      "diminishing 0.1 --- [exit without code 0 or 1]: 0\n",
      "==================================================\n",
      "diminishing 0.5 --- [exit without code 0 or 1]: 0\n",
      "==================================================\n",
      "diminishing 1.0 --- [exit without code 0 or 1]: 0\n",
      "==================================================\n",
      "PStorm [-9. -9. -9.]\n",
      "diminishing 0.1 --- [exit without code 0 or 1]: 1\n",
      "==================================================\n",
      "diminishing 0.5 --- [exit without code 0 or 1]: 1\n",
      "==================================================\n",
      "diminishing 1.0 --- [exit without code 0 or 1]: 0\n",
      "==================================================\n",
      "SPStorm [ 58.  84. 101.]\n"
     ]
    }
   ],
   "source": [
    "for solver in ['RDA', 'ProxSVRG', 'ProxSAGA', 'PStorm', 'SPStorm']:\n",
    "    ipg_strategy_lst = ['diminishing']\n",
    "    if solver == 'RDA':\n",
    "        lipcoef_lst = [0.1, 1.0, 10.0]\n",
    "    else:\n",
    "        lipcoef_lst = [0.1, 0.5, 1.0]\n",
    "    list_of_metric = ['best_F_diff', 'last_nz_diff', 'first_id', 'first_cst_id', 'total_id']\n",
    "    df = get_alg_df(ground_truth, \n",
    "                   solver = solver,\n",
    "                   ipg_strategy_lst = ipg_strategy_lst,\n",
    "                   lipcoef_lst = lipcoef_lst,\n",
    "                   list_of_metric = list_of_metric,\n",
    "                   max_epoch = 500)\n",
    "    # rank them by metrics\n",
    "    # 'bets_F_diff', 'last_nz_diff', 'first_id', 'first_cst_id', 'total_id'\n",
    "    score_list = []\n",
    "    for metric in list_of_metric:\n",
    "        selected_cols = [col_name for col_name in df.columns if metric in col_name]\n",
    "        df_metric = df[selected_cols].copy()\n",
    "        score_mat_lst = []\n",
    "        if metric != 'total_id':\n",
    "            # smaller the number, higher rank, hence higher score,the better; break tie by min; penalize failed case\n",
    "            df_rank = df_metric.rank(axis=1, method='min', ascending=False).fillna(-1)\n",
    "        else:\n",
    "            # larger the number, higher rank, hence higher score,the better; break tie by min; penalize failed case\n",
    "            df_rank = df_metric.rank(axis=1, method='max', ascending=True).fillna(-1)\n",
    "\n",
    "        score_mat_lst.append(df_rank.to_numpy())\n",
    "            # print(df_metric_subset)\n",
    "            # print(df_rank)\n",
    "        score = np.sum(np.vstack(score_mat_lst), axis=0)\n",
    "        score_list.append(score)\n",
    "    print(solver, np.sum(np.vstack(score_list), axis=0))"
   ]
  },
  {
   "cell_type": "markdown",
   "metadata": {},
   "source": [
    "# Logit + chain"
   ]
  },
  {
   "cell_type": "code",
   "execution_count": 67,
   "metadata": {
    "execution": {
     "iopub.execute_input": "2023-05-20T00:23:06.013386Z",
     "iopub.status.busy": "2023-05-20T00:23:06.012652Z",
     "iopub.status.idle": "2023-05-20T00:23:06.044781Z",
     "shell.execute_reply": "2023-05-20T00:23:06.044139Z",
     "shell.execute_reply.started": "2023-05-20T00:23:06.013336Z"
    },
    "tags": []
   },
   "outputs": [],
   "source": [
    "def gen_path(solver, solver_hyper, \n",
    "             chain_grpsize_lst=[10, 100], \n",
    "             chain_overlap_ratio_lst=[0.1, 0.2, 0.3], \n",
    "             lam_shrink_lst=[0.1, 0.01],\n",
    "             datasets = ['a9a','w8a'],\n",
    "             purpose='logit_chain/details', \n",
    "             loss='logit', task='chain',\n",
    "            ):\n",
    "    all_path = []\n",
    "    for lam_shrink in lam_shrink_lst:\n",
    "        for chain_grpsize in chain_grpsize_lst:\n",
    "            for chain_overlap_ratio in chain_overlap_ratio_lst:\n",
    "                for dataset in datasets:\n",
    "                    path = f'../{purpose}/{solver}_{loss}_NatOG/{dataset}_lam_shrink:{lam_shrink}_{task}_{chain_grpsize}_{chain_overlap_ratio}_diminishing'\n",
    "                    for k,v in solver_hyper.items():\n",
    "                        if k == 'ipg_strategy':\n",
    "                            path += f'_{v}'\n",
    "                        else:\n",
    "                            path += f'_{k}:{v}'\n",
    "                    path += '_stats.npy'\n",
    "                    all_path.append(path)\n",
    "    return all_path\n",
    "def create_hypers(solver, modify_dict={}):\n",
    "    task_hypers_template = {\n",
    "            'ProxSAGA': OrderedDict({  'seed':2023, 'proxsaga_lipcoef': 1.0,}),\n",
    "            'ProxSVRG': OrderedDict({  'seed':2023, 'proxsvrg_inner_repeat': 1, 'proxsvrg_lipcoef': 1.0}),\n",
    "            'PStorm':   OrderedDict({  'seed':2023,'pstorm_stepsize': 'diminishing', 'pstorm_betak': -1.0, 'pstorm_lipcoef': 1.0}),\n",
    "            'RDA':      OrderedDict({  'seed':2023, 'rda_stepconst': 1.0}),\n",
    "            'SPStorm':  OrderedDict({  'seed':2023, 'spstorm_betak': -1.0, 'spstorm_zeta': 'dynanmic', 'spstorm_lipcoef': 1.0})\n",
    "        }\n",
    "    hypers = task_hypers_template[solver]\n",
    "    for k,v in modify_dict.items():\n",
    "        hypers[k] = v\n",
    "    return hypers\n",
    "\n",
    "def load_from_npy(all_path, selected_keys, verbose=False):\n",
    "    instance_dict = {}\n",
    "    total_failed = 0\n",
    "    for path in all_path:\n",
    "        try:\n",
    "            info = np.load(path, allow_pickle=True).item()\n",
    "            instance_name = path.split('/')[-1].split('_seed')[0]\n",
    "            instance_dict[instance_name] = {k:info[k] for k in selected_keys}\n",
    "            for k in ['total_bak_seq', 'inner_its_seq']:\n",
    "                if k in selected_keys:\n",
    "                    instance_dict[instance_name][k] = np.sum(info[k])\n",
    "            if info['status'] not in [0,1]:\n",
    "                if verbose:\n",
    "                    print(f'Warning: {instance_name} is not solved, status: {info[\"status\"]}')\n",
    "                total_failed += 1\n",
    "        except FileNotFoundError:\n",
    "            info = None\n",
    "            print(f'Not found:{path}')\n",
    "    return instance_dict, total_failed\n",
    "\n",
    "def get_alg_df(nz_gt_dict, solver,\n",
    "               lipcoef_lst = [0.1, 0.5, 1.0],\n",
    "               chain_grpsize_lst=[10, 100], \n",
    "               chain_overlap_ratio_lst=[0.1, 0.2, 0.3], \n",
    "               lam_shrink_lst=[0.1, 0.01],\n",
    "               datasets = ['a9a','w8a'],\n",
    "               # list_of_metric = ['best_F', 'last_nz'],\n",
    "               list_of_metric = ['best_F', 'last_nz_diff', 'first_id', 'first_cst_id', 'total_id'],\n",
    "               max_epoch = 500):\n",
    "    # collect raw results for solver\n",
    "    dict_of_results = {}\n",
    "    for lipcoef in lipcoef_lst:\n",
    "        solver_hyper = create_hypers(solver)\n",
    "        if solver != 'RDA':\n",
    "            solver_hyper[f'{solver.lower()}_lipcoef'] = lipcoef\n",
    "        else:\n",
    "            solver_hyper[f'{solver.lower()}_stepconst'] = lipcoef\n",
    "        solver_all_path = gen_path(solver, solver_hyper, chain_grpsize_lst, chain_overlap_ratio_lst, lam_shrink_lst, datasets)\n",
    "        solver_result, total_failed = load_from_npy(solver_all_path, selected_keys=['time', 'Fbest', 'status', 'nz_seq'])\n",
    "        print(lipcoef, '--- [exit without code 0 or 1]:', total_failed)\n",
    "        print(\"=\"*50)\n",
    "        dict_of_results[f'{lipcoef}'] = (solver_result, total_failed)\n",
    "\n",
    "    # construct the df for ground truth    \n",
    "    df_dict = {'instance':[]} \n",
    "    for k in ground_truth.keys():\n",
    "        df_dict['instance'].append(k)\n",
    "    # construct the df for solver\n",
    "    for hyper_combine, solver_result in dict_of_results.items():\n",
    "        for metric in list_of_metric:\n",
    "            df_dict[f\"{solver}_{hyper_combine}_{metric}\"] = []\n",
    "        for instance_name, instance_info in solver_result[0].items():\n",
    "            nz_seq = instance_info['nz_seq']  \n",
    "            nz_gt = nz_gt_dict[instance_name]\n",
    "            if solver == \"ProxSVRG\":\n",
    "                # count as data pass\n",
    "                nz_seq = nz_seq[:max_epoch+1]\n",
    "            # handel identification metrics\n",
    "            temp = np.where(np.array(nz_seq) == nz_gt)[0]\n",
    "            total_identification = len(temp)\n",
    "            if total_identification > 0:\n",
    "                first_identification = temp[0]\n",
    "                first_consistent_identification = np.nan\n",
    "                for i in range(len(nz_seq)-1, -1, -1):\n",
    "                    if np.array(nz_seq[i]) != nz_gt:\n",
    "                        # the previous one is the first id\n",
    "                        first_consistent_identification = i + 1\n",
    "                        break\n",
    "                if first_consistent_identification == 0 or first_consistent_identification == (max_epoch+1):\n",
    "                    first_consistent_identification = np.nan\n",
    "            else:\n",
    "                first_identification = first_consistent_identification = total_identification = np.nan                 \n",
    "            df_dict[f\"{solver}_{hyper_combine}_best_F\"].append(np.abs(instance_info['Fbest']))\n",
    "            # df_dict[f\"{solver}_{hyper_combine}_last_nz\"].append(np.abs(nz_seq[-1]))\n",
    "            df_dict[f\"{solver}_{hyper_combine}_last_nz_diff\"].append(np.abs(nz_seq[-1]-nz_gt))            \n",
    "            df_dict[f\"{solver}_{hyper_combine}_first_id\"].append(first_identification)   \n",
    "            df_dict[f\"{solver}_{hyper_combine}_first_cst_id\"].append(first_consistent_identification)\n",
    "            df_dict[f\"{solver}_{hyper_combine}_total_id\"].append(total_identification)            \n",
    "    return pd.DataFrame.from_dict(df_dict)"
   ]
  },
  {
   "cell_type": "code",
   "execution_count": 68,
   "metadata": {
    "execution": {
     "iopub.execute_input": "2023-05-20T00:23:14.537457Z",
     "iopub.status.busy": "2023-05-20T00:23:14.536612Z",
     "iopub.status.idle": "2023-05-20T00:23:14.549712Z",
     "shell.execute_reply": "2023-05-20T00:23:14.548083Z",
     "shell.execute_reply.started": "2023-05-20T00:23:14.537398Z"
    }
   },
   "outputs": [],
   "source": [
    "# nz_gt_dict = {}\n",
    "# for instance, nz in zip(df.instance, df['SPStorm_0.1_last_nz'].to_numpy()):\n",
    "#     nz_gt_dict[instance] = nz\n",
    "# nz_gt_dict\n",
    "nz_gt_dict = {'a9a_lam_shrink:0.1_chain_10_0.1_diminishing': 12,\n",
    "             'w8a_lam_shrink:0.1_chain_10_0.1_diminishing': 18,\n",
    "             'a9a_lam_shrink:0.1_chain_10_0.2_diminishing': 11,\n",
    "             'w8a_lam_shrink:0.1_chain_10_0.2_diminishing': 23,\n",
    "             'a9a_lam_shrink:0.1_chain_10_0.3_diminishing': 16,\n",
    "             'w8a_lam_shrink:0.1_chain_10_0.3_diminishing': 21,\n",
    "             'a9a_lam_shrink:0.1_chain_100_0.1_diminishing': 1,\n",
    "             'w8a_lam_shrink:0.1_chain_100_0.1_diminishing': 0,\n",
    "             'a9a_lam_shrink:0.1_chain_100_0.2_diminishing': 1,\n",
    "             'w8a_lam_shrink:0.1_chain_100_0.2_diminishing': 0,\n",
    "             'a9a_lam_shrink:0.1_chain_100_0.3_diminishing': 0,\n",
    "             'w8a_lam_shrink:0.1_chain_100_0.3_diminishing': 0,\n",
    "             'a9a_lam_shrink:0.01_chain_10_0.1_diminishing': 7,\n",
    "             'w8a_lam_shrink:0.01_chain_10_0.1_diminishing': 3,\n",
    "             'a9a_lam_shrink:0.01_chain_10_0.2_diminishing': 8,\n",
    "             'w8a_lam_shrink:0.01_chain_10_0.2_diminishing': 4,\n",
    "             'a9a_lam_shrink:0.01_chain_10_0.3_diminishing': 8,\n",
    "             'w8a_lam_shrink:0.01_chain_10_0.3_diminishing': 6,\n",
    "             'a9a_lam_shrink:0.01_chain_100_0.1_diminishing': 1,\n",
    "             'w8a_lam_shrink:0.01_chain_100_0.1_diminishing': 0,\n",
    "             'a9a_lam_shrink:0.01_chain_100_0.2_diminishing': 1,\n",
    "             'w8a_lam_shrink:0.01_chain_100_0.2_diminishing': 0,\n",
    "             'a9a_lam_shrink:0.01_chain_100_0.3_diminishing': 0,\n",
    "             'w8a_lam_shrink:0.01_chain_100_0.3_diminishing': 0}"
   ]
  },
  {
   "cell_type": "code",
   "execution_count": 120,
   "metadata": {
    "execution": {
     "iopub.execute_input": "2023-05-20T00:52:30.182577Z",
     "iopub.status.busy": "2023-05-20T00:52:30.181907Z",
     "iopub.status.idle": "2023-05-20T00:52:31.835724Z",
     "shell.execute_reply": "2023-05-20T00:52:31.834733Z",
     "shell.execute_reply.started": "2023-05-20T00:52:30.182534Z"
    },
    "tags": []
   },
   "outputs": [
    {
     "name": "stdout",
     "output_type": "stream",
     "text": [
      "0.1 --- [exit without code 0 or 1]: 0\n",
      "==================================================\n",
      "0.5 --- [exit without code 0 or 1]: 0\n",
      "==================================================\n",
      "1.0 --- [exit without code 0 or 1]: 0\n",
      "==================================================\n"
     ]
    }
   ],
   "source": [
    "# solver = 'ProxSVRG'\n",
    "# solver_hyper = create_hypers(solver)\n",
    "# all_path = gen_path(solver, solver_hyper, datasets = ['a9a','w8a'])\n",
    "# solver_result, total_failed = load_from_npy(all_path,  selected_keys=['time', 'total_bak_seq', 'inner_its_seq', 'Fbest', 'status', 'nz_seq'])\n",
    "df = get_alg_df(nz_gt_dict, solver = 'ProxSVRG',lipcoef_lst = [0.1, 0.5, 1.0])"
   ]
  },
  {
   "cell_type": "code",
   "execution_count": 121,
   "metadata": {
    "execution": {
     "iopub.execute_input": "2023-05-20T00:52:33.049221Z",
     "iopub.status.busy": "2023-05-20T00:52:33.048782Z",
     "iopub.status.idle": "2023-05-20T00:52:33.117348Z",
     "shell.execute_reply": "2023-05-20T00:52:33.116053Z",
     "shell.execute_reply.started": "2023-05-20T00:52:33.049192Z"
    },
    "tags": []
   },
   "outputs": [
    {
     "name": "stdout",
     "output_type": "stream",
     "text": [
      "All failed in 0 / 24 cases\n"
     ]
    },
    {
     "data": {
      "text/html": [
       "<div>\n",
       "<style scoped>\n",
       "    .dataframe tbody tr th:only-of-type {\n",
       "        vertical-align: middle;\n",
       "    }\n",
       "\n",
       "    .dataframe tbody tr th {\n",
       "        vertical-align: top;\n",
       "    }\n",
       "\n",
       "    .dataframe thead th {\n",
       "        text-align: right;\n",
       "    }\n",
       "</style>\n",
       "<table border=\"1\" class=\"dataframe\">\n",
       "  <thead>\n",
       "    <tr style=\"text-align: right;\">\n",
       "      <th></th>\n",
       "      <th>0.1</th>\n",
       "      <th>0.5</th>\n",
       "      <th>1.0</th>\n",
       "    </tr>\n",
       "  </thead>\n",
       "  <tbody>\n",
       "    <tr>\n",
       "      <th>total identification</th>\n",
       "      <td>0.242775</td>\n",
       "      <td>0.346821</td>\n",
       "      <td>0.410405</td>\n",
       "    </tr>\n",
       "    <tr>\n",
       "      <th>first identification</th>\n",
       "      <td>0.242775</td>\n",
       "      <td>0.346821</td>\n",
       "      <td>0.410405</td>\n",
       "    </tr>\n",
       "    <tr>\n",
       "      <th>first consistent identification</th>\n",
       "      <td>0.242775</td>\n",
       "      <td>0.346821</td>\n",
       "      <td>0.410405</td>\n",
       "    </tr>\n",
       "    <tr>\n",
       "      <th>Fval</th>\n",
       "      <td>0.268156</td>\n",
       "      <td>0.368715</td>\n",
       "      <td>0.363128</td>\n",
       "    </tr>\n",
       "  </tbody>\n",
       "</table>\n",
       "</div>"
      ],
      "text/plain": [
       "                                      0.1       0.5       1.0\n",
       "total identification             0.242775  0.346821  0.410405\n",
       "first identification             0.242775  0.346821  0.410405\n",
       "first consistent identification  0.242775  0.346821  0.410405\n",
       "Fval                             0.268156  0.368715  0.363128"
      ]
     },
     "execution_count": 121,
     "metadata": {},
     "output_type": "execute_result"
    }
   ],
   "source": [
    "solver = 'ProxSVRG'\n",
    "metric = 'total_id'\n",
    "cols = []\n",
    "for const in [0.1, 0.5, 1.0]:\n",
    "    cols += [f'{solver}_{const}_{metric}']\n",
    "df_ = df[cols]\n",
    "all_failed_index = df_.isin([np.nan]).all(1)\n",
    "all_failed_count = np.sum(all_failed_index)\n",
    "print(f\"All failed in {all_failed_count} / {df_.shape[0]} cases\")\n",
    "df_valid = df[~all_failed_index][['instance']+cols]\n",
    "# higher score; the better; break tie by max\n",
    "df_score= df_valid.rank(axis=1, method='max', ascending=True, numeric_only=True)\n",
    "df_score['correction'] = df_valid.isnull().sum(axis=1)\n",
    "for const in [0.1, 0.5, 1.0]:\n",
    "    df_score[f'{solver}_{const}_{metric}'] += df_score['correction']\n",
    "df_score = df_score.fillna(0)[cols]\n",
    "total_id_score = df_score.sum(axis=0).to_numpy()\n",
    "\n",
    "\n",
    "metric = 'first_id'\n",
    "cols = []\n",
    "for const in [0.1, 0.5, 1.0]:\n",
    "    cols += [f'{solver}_{const}_{metric}']\n",
    "df_ = df[cols]\n",
    "all_failed_index = df_.isin([np.nan]).all(1)\n",
    "all_failed_count = np.sum(all_failed_index)\n",
    "df_valid = df[~all_failed_index][['instance']+cols]\n",
    "# higher score; the better; break tie by max\n",
    "df_score= df_valid.rank(axis=1, method='max', ascending=False, numeric_only=True)\n",
    "df_score['correction'] = df_valid.isnull().sum(axis=1)\n",
    "for const in [0.1, 0.5, 1.0]:\n",
    "    df_score[f'{solver}_{const}_{metric}'] += df_score['correction']\n",
    "df_score = df_score.fillna(0)[cols]\n",
    "first_id_score = df_score.sum(axis=0).to_numpy()\n",
    "\n",
    "metric = 'first_cst_id'\n",
    "cols = []\n",
    "for const in [0.1, 0.5, 1.0]:\n",
    "    cols += [f'{solver}_{const}_{metric}']\n",
    "df_ = df[cols]\n",
    "all_failed_index = df_.isin([np.nan]).all(1)\n",
    "all_failed_count = np.sum(all_failed_index)\n",
    "df_valid = df[~all_failed_index][['instance']+cols]\n",
    "# higher score; the better; break tie by max\n",
    "df_score= df_valid.rank(axis=1, method='max', ascending=False, numeric_only=True)\n",
    "df_score['correction'] = df_valid.isnull().sum(axis=1)\n",
    "for const in [0.1, 0.5, 1.0]:\n",
    "    df_score[f'{solver}_{const}_{metric}'] += df_score['correction']\n",
    "df_score = df_score.fillna(0)[cols]\n",
    "first_cst_id_score = df_score.sum(axis=0).to_numpy()\n",
    "\n",
    "metric = 'best_F'\n",
    "cols = []\n",
    "for const in [0.1, 0.5, 1.0]:\n",
    "    cols += [f'{solver}_{const}_{metric}']\n",
    "df_ = df[cols]\n",
    "all_failed_index = df_.isin([np.nan]).all(1)\n",
    "all_failed_count = np.sum(all_failed_index)\n",
    "df_valid = df[~all_failed_index][['instance']+cols]\n",
    "# higher score; the better; break tie by max\n",
    "df_score= df_valid.rank(axis=1, method='max', ascending=False, numeric_only=True)\n",
    "df_score['correction'] = df_valid.isnull().sum(axis=1)\n",
    "for const in [0.1, 0.5, 1.0]:\n",
    "    df_score[f'{solver}_{const}_{metric}'] += df_score['correction']\n",
    "df_score = df_score.fillna(0)[cols]\n",
    "Fval_score = df_score.sum(axis=0).to_numpy()\n",
    "\n",
    "\n",
    "index = ['total identification', 'first identification', 'first consistent identification', 'Fval']\n",
    "plot_df_dict = {}\n",
    "lipcoef_lst = [0.1, 0.5, 1.0]\n",
    "for i in range(len(lipcoef_lst)):\n",
    "    plot_df_dict[lipcoef_lst[i]] = [total_id_score[i], first_id_score[i], first_cst_id_score[i], Fval_score[i]]\n",
    "plot_df = pd.DataFrame.from_dict(plot_df_dict)\n",
    "plot_df.index = index\n",
    "plot_df_row_sum = plot_df.sum(1)\n",
    "for i in range(len(plot_df_row_sum)):\n",
    "    for col in lipcoef_lst:\n",
    "        plot_df[col][i] /= plot_df_row_sum[i]\n",
    "        \n",
    "plot_df"
   ]
  },
  {
   "cell_type": "code",
   "execution_count": 117,
   "metadata": {
    "execution": {
     "iopub.execute_input": "2023-05-20T00:51:25.831202Z",
     "iopub.status.busy": "2023-05-20T00:51:25.830714Z",
     "iopub.status.idle": "2023-05-20T00:51:27.172466Z",
     "shell.execute_reply": "2023-05-20T00:51:27.171268Z",
     "shell.execute_reply.started": "2023-05-20T00:51:25.831172Z"
    },
    "tags": []
   },
   "outputs": [
    {
     "data": {
      "image/png": "[encoded data removed]",
      "text/plain": [
       "<Figure size 1600x800 with 1 Axes>"
      ]
     },
     "metadata": {},
     "output_type": "display_data"
    }
   ],
   "source": [
    "legend_label=lipcoef_lst\n",
    "ax = plot_df.plot.bar(rot=0, figsize=(16, 8), fontsize=20)\n",
    "L=ax.legend(legend_label, loc='upper center', bbox_to_anchor=(0.5, 1.1), ncol=len(lipcoef_lst), fancybox=True, prop={'size': 20, 'family':'monospace'})\n",
    "plt.ylabel('normalized scores', fontdict={'size': 22})\n",
    "plt.tight_layout(w_pad=0)"
   ]
  },
  {
   "cell_type": "code",
   "execution_count": 122,
   "metadata": {
    "execution": {
     "iopub.execute_input": "2023-05-20T00:52:39.473914Z",
     "iopub.status.busy": "2023-05-20T00:52:39.473387Z",
     "iopub.status.idle": "2023-05-20T00:52:40.386549Z",
     "shell.execute_reply": "2023-05-20T00:52:40.385885Z",
     "shell.execute_reply.started": "2023-05-20T00:52:39.473877Z"
    },
    "tags": []
   },
   "outputs": [
    {
     "name": "stdout",
     "output_type": "stream",
     "text": [
      "0.01 --- [exit without code 0 or 1]: 0\n",
      "==================================================\n",
      "0.1 --- [exit without code 0 or 1]: 0\n",
      "==================================================\n",
      "1.0 --- [exit without code 0 or 1]: 0\n",
      "==================================================\n",
      "10.0 --- [exit without code 0 or 1]: 0\n",
      "==================================================\n"
     ]
    }
   ],
   "source": [
    "df = get_alg_df(nz_gt_dict, solver = 'RDA',lipcoef_lst = [0.01, 0.1, 1.0, 10.0])"
   ]
  },
  {
   "cell_type": "code",
   "execution_count": 123,
   "metadata": {
    "execution": {
     "iopub.execute_input": "2023-05-20T00:53:28.933680Z",
     "iopub.status.busy": "2023-05-20T00:53:28.933070Z",
     "iopub.status.idle": "2023-05-20T00:53:29.009418Z",
     "shell.execute_reply": "2023-05-20T00:53:29.008487Z",
     "shell.execute_reply.started": "2023-05-20T00:53:28.933635Z"
    }
   },
   "outputs": [
    {
     "name": "stdout",
     "output_type": "stream",
     "text": [
      "All failed in 2 / 24 cases\n"
     ]
    },
    {
     "data": {
      "text/html": [
       "<div>\n",
       "<style scoped>\n",
       "    .dataframe tbody tr th:only-of-type {\n",
       "        vertical-align: middle;\n",
       "    }\n",
       "\n",
       "    .dataframe tbody tr th {\n",
       "        vertical-align: top;\n",
       "    }\n",
       "\n",
       "    .dataframe thead th {\n",
       "        text-align: right;\n",
       "    }\n",
       "</style>\n",
       "<table border=\"1\" class=\"dataframe\">\n",
       "  <thead>\n",
       "    <tr style=\"text-align: right;\">\n",
       "      <th></th>\n",
       "      <th>0.01</th>\n",
       "      <th>0.10</th>\n",
       "      <th>1.00</th>\n",
       "      <th>10.00</th>\n",
       "    </tr>\n",
       "  </thead>\n",
       "  <tbody>\n",
       "    <tr>\n",
       "      <th>total identification</th>\n",
       "      <td>0.396396</td>\n",
       "      <td>0.261261</td>\n",
       "      <td>0.18018</td>\n",
       "      <td>0.162162</td>\n",
       "    </tr>\n",
       "    <tr>\n",
       "      <th>first identification</th>\n",
       "      <td>0.396396</td>\n",
       "      <td>0.261261</td>\n",
       "      <td>0.18018</td>\n",
       "      <td>0.162162</td>\n",
       "    </tr>\n",
       "    <tr>\n",
       "      <th>first consistent identification</th>\n",
       "      <td>0.396396</td>\n",
       "      <td>0.261261</td>\n",
       "      <td>0.18018</td>\n",
       "      <td>0.162162</td>\n",
       "    </tr>\n",
       "    <tr>\n",
       "      <th>Fval</th>\n",
       "      <td>0.400000</td>\n",
       "      <td>0.300000</td>\n",
       "      <td>0.20000</td>\n",
       "      <td>0.100000</td>\n",
       "    </tr>\n",
       "  </tbody>\n",
       "</table>\n",
       "</div>"
      ],
      "text/plain": [
       "                                    0.01      0.10     1.00      10.00\n",
       "total identification             0.396396  0.261261  0.18018  0.162162\n",
       "first identification             0.396396  0.261261  0.18018  0.162162\n",
       "first consistent identification  0.396396  0.261261  0.18018  0.162162\n",
       "Fval                             0.400000  0.300000  0.20000  0.100000"
      ]
     },
     "execution_count": 123,
     "metadata": {},
     "output_type": "execute_result"
    }
   ],
   "source": [
    "solver = 'RDA'\n",
    "metric = 'total_id'\n",
    "cols = []\n",
    "lipcoef_lst = [0.01, 0.1, 1.0, 10.0]\n",
    "for const in lipcoef_lst:\n",
    "    cols += [f'{solver}_{const}_{metric}']\n",
    "df_ = df[cols]\n",
    "all_failed_index = df_.isin([np.nan]).all(1)\n",
    "all_failed_count = np.sum(all_failed_index)\n",
    "print(f\"All failed in {all_failed_count} / {df_.shape[0]} cases\")\n",
    "df_valid = df[~all_failed_index][['instance']+cols]\n",
    "# higher score; the better; break tie by max\n",
    "df_score= df_valid.rank(axis=1, method='max', ascending=True, numeric_only=True)\n",
    "df_score['correction'] = df_valid.isnull().sum(axis=1)\n",
    "for const in lipcoef_lst:\n",
    "    df_score[f'{solver}_{const}_{metric}'] += df_score['correction']\n",
    "df_score = df_score.fillna(0)[cols]\n",
    "total_id_score = df_score.sum(axis=0).to_numpy()\n",
    "\n",
    "\n",
    "metric = 'first_id'\n",
    "cols = []\n",
    "for const in lipcoef_lst:\n",
    "    cols += [f'{solver}_{const}_{metric}']\n",
    "df_ = df[cols]\n",
    "all_failed_index = df_.isin([np.nan]).all(1)\n",
    "all_failed_count = np.sum(all_failed_index)\n",
    "df_valid = df[~all_failed_index][['instance']+cols]\n",
    "# higher score; the better; break tie by max\n",
    "df_score= df_valid.rank(axis=1, method='max', ascending=False, numeric_only=True)\n",
    "df_score['correction'] = df_valid.isnull().sum(axis=1)\n",
    "for const in lipcoef_lst:\n",
    "    df_score[f'{solver}_{const}_{metric}'] += df_score['correction']\n",
    "df_score = df_score.fillna(0)[cols]\n",
    "first_id_score = df_score.sum(axis=0).to_numpy()\n",
    "\n",
    "metric = 'first_cst_id'\n",
    "cols = []\n",
    "for const in lipcoef_lst:\n",
    "    cols += [f'{solver}_{const}_{metric}']\n",
    "df_ = df[cols]\n",
    "all_failed_index = df_.isin([np.nan]).all(1)\n",
    "all_failed_count = np.sum(all_failed_index)\n",
    "df_valid = df[~all_failed_index][['instance']+cols]\n",
    "# higher score; the better; break tie by max\n",
    "df_score= df_valid.rank(axis=1, method='max', ascending=False, numeric_only=True)\n",
    "df_score['correction'] = df_valid.isnull().sum(axis=1)\n",
    "for const in lipcoef_lst:\n",
    "    df_score[f'{solver}_{const}_{metric}'] += df_score['correction']\n",
    "df_score = df_score.fillna(0)[cols]\n",
    "first_cst_id_score = df_score.sum(axis=0).to_numpy()\n",
    "\n",
    "metric = 'best_F'\n",
    "cols = []\n",
    "for const in lipcoef_lst:\n",
    "    cols += [f'{solver}_{const}_{metric}']\n",
    "df_ = df[cols]\n",
    "all_failed_index = df_.isin([np.nan]).all(1)\n",
    "all_failed_count = np.sum(all_failed_index)\n",
    "df_valid = df[~all_failed_index][['instance']+cols]\n",
    "# higher score; the better; break tie by max\n",
    "df_score= df_valid.rank(axis=1, method='max', ascending=False, numeric_only=True)\n",
    "df_score['correction'] = df_valid.isnull().sum(axis=1)\n",
    "for const in lipcoef_lst:\n",
    "    df_score[f'{solver}_{const}_{metric}'] += df_score['correction']\n",
    "df_score = df_score.fillna(0)[cols]\n",
    "Fval_score = df_score.sum(axis=0).to_numpy()\n",
    "\n",
    "\n",
    "index = ['total identification', 'first identification', 'first consistent identification', 'Fval']\n",
    "plot_df_dict = {}\n",
    "lipcoef_lst = lipcoef_lst\n",
    "for i in range(len(lipcoef_lst)):\n",
    "    plot_df_dict[lipcoef_lst[i]] = [total_id_score[i], first_id_score[i], first_cst_id_score[i], Fval_score[i]]\n",
    "plot_df = pd.DataFrame.from_dict(plot_df_dict)\n",
    "plot_df.index = index\n",
    "plot_df_row_sum = plot_df.sum(1)\n",
    "for i in range(len(plot_df_row_sum)):\n",
    "    for col in lipcoef_lst:\n",
    "        plot_df[col][i] /= plot_df_row_sum[i]\n",
    "        \n",
    "plot_df"
   ]
  },
  {
   "cell_type": "code",
   "execution_count": 124,
   "metadata": {
    "execution": {
     "iopub.execute_input": "2023-05-20T00:53:53.971381Z",
     "iopub.status.busy": "2023-05-20T00:53:53.970825Z",
     "iopub.status.idle": "2023-05-20T00:53:54.846555Z",
     "shell.execute_reply": "2023-05-20T00:53:54.845869Z",
     "shell.execute_reply.started": "2023-05-20T00:53:53.971347Z"
    }
   },
   "outputs": [
    {
     "data": {
      "image/png": "[encoded data removed]",
      "text/plain": [
       "<Figure size 1600x800 with 1 Axes>"
      ]
     },
     "metadata": {},
     "output_type": "display_data"
    }
   ],
   "source": [
    "legend_label=lipcoef_lst\n",
    "ax = plot_df.plot.bar(rot=0, figsize=(16, 8), fontsize=20)\n",
    "L=ax.legend(legend_label, loc='upper center', bbox_to_anchor=(0.5, 1.1), ncol=len(lipcoef_lst), fancybox=True, prop={'size': 20, 'family':'monospace'})\n",
    "plt.ylabel('normalized scores', fontdict={'size': 22})\n",
    "plt.tight_layout(w_pad=0)"
   ]
  },
  {
   "cell_type": "code",
   "execution_count": 28,
   "metadata": {
    "execution": {
     "iopub.execute_input": "2023-05-17T21:49:19.258664Z",
     "iopub.status.busy": "2023-05-17T21:49:19.258344Z",
     "iopub.status.idle": "2023-05-17T21:49:19.263796Z",
     "shell.execute_reply": "2023-05-17T21:49:19.263086Z",
     "shell.execute_reply.started": "2023-05-17T21:49:19.258639Z"
    },
    "tags": []
   },
   "outputs": [],
   "source": [
    "# df = get_alg_df(ground_truth, \n",
    "#                solver = 'RDA',\n",
    "#                ipg_strategy_lst = ipg_strategy_lst,\n",
    "#                lipcoef_lst = [0.1, 0.5, 1.0, 10, 100],\n",
    "#                list_of_metric = list_of_metric,\n",
    "#                max_epoch = 500)\n",
    "# df[['instance',\t'ProxGD_best_F', 'ProxGD_nz'] + [col for col in df.columns if str(0.5) in col]]"
   ]
  },
  {
   "cell_type": "code",
   "execution_count": 40,
   "metadata": {
    "execution": {
     "iopub.execute_input": "2023-05-17T21:55:54.371228Z",
     "iopub.status.busy": "2023-05-17T21:55:54.370615Z",
     "iopub.status.idle": "2023-05-17T21:55:54.376686Z",
     "shell.execute_reply": "2023-05-17T21:55:54.375533Z",
     "shell.execute_reply.started": "2023-05-17T21:55:54.371189Z"
    },
    "tags": []
   },
   "outputs": [],
   "source": [
    "# solver = 'RDA'\n",
    "# dict_of_results = {}\n",
    "# for lipcoef in [0.1, 0.5, 1.0, 10.0, 100.0]:\n",
    "#     solver_hyper = create_hypers(solver)\n",
    "#     solver_hyper['ipg_strategy'] = 'diminishing'\n",
    "#     if solver != 'RDA':\n",
    "#         solver_hyper[f'{solver.lower()}_lipcoef'] = lipcoef\n",
    "#     else:\n",
    "#         solver_hyper[f'{solver.lower()}_stepconst'] = lipcoef\n",
    "#     solver_all_path = gen_path(solver, solver_hyper, regularizer='NatOG', depth_lst=[11,12,13])\n",
    "#     solver_result, total_failed = load_from_npy(solver_all_path, selected_keys=['time', 'total_bak_seq', 'inner_its_seq', 'Fbest', 'status', 'nz_seq'])\n",
    "#     print('diminishing', lipcoef, '--- [exit without code 0 or 1]:', total_failed)\n",
    "#     print(\"=\"*50)\n",
    "#     dict_of_results[f'diminishing_{lipcoef}'] = (solver_result, total_failed)"
   ]
  },
  {
   "cell_type": "code",
   "execution_count": 30,
   "metadata": {
    "execution": {
     "iopub.execute_input": "2023-05-17T21:49:51.328292Z",
     "iopub.status.busy": "2023-05-17T21:49:51.326954Z",
     "iopub.status.idle": "2023-05-17T21:49:51.334119Z",
     "shell.execute_reply": "2023-05-17T21:49:51.332701Z",
     "shell.execute_reply.started": "2023-05-17T21:49:51.328230Z"
    },
    "tags": []
   },
   "outputs": [],
   "source": [
    "# for c in [0.1, 0.5, 1.0, 10.0, 100.0]:\n",
    "#     infos = dict_of_results[f'diminishing_{c}'][0]\n",
    "#     print(f\"================================ {c} =================================\")\n",
    "#     for instance in infos.keys():\n",
    "#         print(f\"status: {infos[instance]['status']:+d}, inner_its: {infos[instance]['inner_its_seq']:8d}, total_bak_seq: {infos[instance]['total_bak_seq']:8d}\")\n"
   ]
  },
  {
   "cell_type": "code",
   "execution_count": null,
   "metadata": {},
   "outputs": [],
   "source": [
    "# solver = 'ProxSVRG'\n",
    "# dict_of_results = {}\n",
    "# for ipg_strategy in ['linear_decay', 'diminishing']:\n",
    "#     for lipcoef in [0.1, 0.5, 1.0]:\n",
    "#         solver_hyper = create_hypers(solver)\n",
    "#         solver_hyper['ipg_strategy'] = ipg_strategy\n",
    "#         solver_hyper[f'{solver.lower()}_lipcoef'] = lipcoef\n",
    "#         solver_all_path = gen_path(solver, solver_hyper, regularizer='NatOG', depth_lst=[11,12,13])\n",
    "#         solver_result, total_failed = load_from_npy(solver_all_path, selected_keys=['time', 'total_bak_seq', 'inner_its_seq', 'Fbest', 'status', 'nz_seq'])\n",
    "#         print(ipg_strategy, lipcoef, '--- [exit without code 0 or 1]:', total_failed)\n",
    "#         print(\"=\"*50)\n",
    "#         dict_of_results[f'{ipg_strategy}_{lipcoef}'] = (solver_result, total_failed)\n",
    "\n",
    "# code for check why exits without code 0 ,1       \n",
    "# solver_hyper = create_hypers(solver)\n",
    "# solver_hyper['ipg_strategy'] = 'linear_decay'\n",
    "# solver_hyper[f'{solver.lower()}_lipcoef'] = 0.1\n",
    "# solver_all_path = gen_path(solver, solver_hyper, regularizer='NatOG', depth_lst=[11,12,13])\n",
    "# solver_result, total_failed = load_from_npy(solver_all_path, selected_keys=['time', 'total_bak_seq', 'inner_its_seq', 'Fbest', 'status'], verbose=True)\n",
    "# for i in range(len(solver_all_path)):\n",
    "#     info = np.load(solver_all_path[i], allow_pickle=True).item()\n",
    "#     print(np.sum(info['total_bak_seq']),np.sum(info['inner_its_seq']))\n",
    "\n",
    "\n",
    "# # objective value\n",
    "# selected_cols = [col_name for col_name in df.columns if 'best_F' in col_name]\n",
    "# df_F = df[selected_cols].copy()\n",
    "# for col in selected_cols[1:]:\n",
    "#     df_F[col] = np.abs(df_F[col] - df_F[selected_cols[0]])\n",
    "\n",
    "# score_mat_lst = []\n",
    "# for lipcoef in lipcoef_lst:\n",
    "#     df_F_subset = df_F[[col_name for col_name in df_F.columns if str(lipcoef) in col_name]]\n",
    "#     # smaller difference, higher rank, hence higher score,the better; break tie by min\n",
    "#     score_mat_lst.append(df_F_subset.rank(axis=1, method='min', ascending=False).to_numpy())\n",
    "# F_score = np.sum(np.vstack(score_mat_lst)-1.0, axis=0)"
   ]
  }
 ],
 "metadata": {
  "kernelspec": {
   "display_name": "Python 3 (ipykernel)",
   "language": "python",
   "name": "python3"
  },
  "language_info": {
   "codemirror_mode": {
    "name": "ipython",
    "version": 3
   },
   "file_extension": ".py",
   "mimetype": "text/x-python",
   "name": "python",
   "nbconvert_exporter": "python",
   "pygments_lexer": "ipython3",
   "version": "3.9.7"
  }
 },
 "nbformat": 4,
 "nbformat_minor": 4
}
